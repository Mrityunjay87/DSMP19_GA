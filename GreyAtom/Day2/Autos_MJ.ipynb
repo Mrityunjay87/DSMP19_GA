{
 "cells": [
  {
   "cell_type": "markdown",
   "metadata": {},
   "source": [
    "#                          Analysis of Autos data scrapped\n",
    "\n",
    "##                                         --------------------Part 1--------------------\n",
    "Read the autos.csv CSV file into pandas, and assign it to the variable name autos.\n",
    "If you get an encoding error,try the next two most popular encodings (Latin-1 and Windows-1252) until you are able to read the file without error.Create a new cell with just the variable autos and run this cell. "
   ]
  },
  {
   "cell_type": "markdown",
   "metadata": {},
   "source": [
    "##                                          --------------------Solution of Part 1--------------------"
   ]
  },
  {
   "cell_type": "code",
   "execution_count": 53,
   "metadata": {},
   "outputs": [],
   "source": [
    "#Importing pandas package\n",
    "import pandas as pd\n",
    "\n",
    "#Defining path of the data file to be read from\n",
    "autos_path='C:/Users/mrityunjay1.pandey/GreyAtom/Day2/autos.csv'\n",
    "#Reading file without specifying any encoding\n",
    "#autos=pd.read_csv(autos_path)\n",
    "#running above line gives below error \n",
    "#\"UnicodeDecodeError: 'utf-8' codec can't decode byte 0xdc in position 23: invalid continuation byte\n",
    "\n",
    "#Reading data with encodng specified, both encoding Windows-1252 & Latin-1 works fine.\n",
    "#autos_win=pd.read_csv(autos_path,encoding='Windows-1252')\n",
    "autos=pd.read_csv(autos_path,encoding='latin-1')"
   ]
  },
  {
   "cell_type": "markdown",
   "metadata": {},
   "source": [
    "A neat feature of jupyter notebook is its ability to render the first few and \n",
    "last few values of any pandas object.Use the DataFrame.info() and DataFrame.head() \n",
    "methods to print information about the autos dataframe, as well as the first few rows."
   ]
  },
  {
   "cell_type": "code",
   "execution_count": 54,
   "metadata": {},
   "outputs": [
    {
     "name": "stdout",
     "output_type": "stream",
     "text": [
      "<class 'pandas.core.frame.DataFrame'>\n",
      "RangeIndex: 50000 entries, 0 to 49999\n",
      "Data columns (total 20 columns):\n",
      "dateCrawled            50000 non-null object\n",
      "name                   50000 non-null object\n",
      "seller                 50000 non-null object\n",
      "offerType              50000 non-null object\n",
      "price                  50000 non-null object\n",
      "abtest                 50000 non-null object\n",
      "vehicleType            44905 non-null object\n",
      "yearOfRegistration     50000 non-null int64\n",
      "gearbox                47320 non-null object\n",
      "powerPS                50000 non-null int64\n",
      "model                  47242 non-null object\n",
      "odometer               50000 non-null object\n",
      "monthOfRegistration    50000 non-null int64\n",
      "fuelType               45518 non-null object\n",
      "brand                  50000 non-null object\n",
      "notRepairedDamage      40171 non-null object\n",
      "dateCreated            50000 non-null object\n",
      "nrOfPictures           50000 non-null int64\n",
      "postalCode             50000 non-null int64\n",
      "lastSeen               50000 non-null object\n",
      "dtypes: int64(5), object(15)\n",
      "memory usage: 7.6+ MB\n"
     ]
    },
    {
     "data": {
      "text/html": [
       "<div>\n",
       "<style scoped>\n",
       "    .dataframe tbody tr th:only-of-type {\n",
       "        vertical-align: middle;\n",
       "    }\n",
       "\n",
       "    .dataframe tbody tr th {\n",
       "        vertical-align: top;\n",
       "    }\n",
       "\n",
       "    .dataframe thead th {\n",
       "        text-align: right;\n",
       "    }\n",
       "</style>\n",
       "<table border=\"1\" class=\"dataframe\">\n",
       "  <thead>\n",
       "    <tr style=\"text-align: right;\">\n",
       "      <th></th>\n",
       "      <th>dateCrawled</th>\n",
       "      <th>name</th>\n",
       "      <th>seller</th>\n",
       "      <th>offerType</th>\n",
       "      <th>price</th>\n",
       "      <th>abtest</th>\n",
       "      <th>vehicleType</th>\n",
       "      <th>yearOfRegistration</th>\n",
       "      <th>gearbox</th>\n",
       "      <th>powerPS</th>\n",
       "      <th>model</th>\n",
       "      <th>odometer</th>\n",
       "      <th>monthOfRegistration</th>\n",
       "      <th>fuelType</th>\n",
       "      <th>brand</th>\n",
       "      <th>notRepairedDamage</th>\n",
       "      <th>dateCreated</th>\n",
       "      <th>nrOfPictures</th>\n",
       "      <th>postalCode</th>\n",
       "      <th>lastSeen</th>\n",
       "    </tr>\n",
       "  </thead>\n",
       "  <tbody>\n",
       "    <tr>\n",
       "      <td>0</td>\n",
       "      <td>2016-03-26 17:47:46</td>\n",
       "      <td>Peugeot_807_160_NAVTECH_ON_BOARD</td>\n",
       "      <td>privat</td>\n",
       "      <td>Angebot</td>\n",
       "      <td>$5,000</td>\n",
       "      <td>control</td>\n",
       "      <td>bus</td>\n",
       "      <td>2004</td>\n",
       "      <td>manuell</td>\n",
       "      <td>158</td>\n",
       "      <td>andere</td>\n",
       "      <td>150,000km</td>\n",
       "      <td>3</td>\n",
       "      <td>lpg</td>\n",
       "      <td>peugeot</td>\n",
       "      <td>nein</td>\n",
       "      <td>2016-03-26 00:00:00</td>\n",
       "      <td>0</td>\n",
       "      <td>79588</td>\n",
       "      <td>2016-04-06 06:45:54</td>\n",
       "    </tr>\n",
       "    <tr>\n",
       "      <td>1</td>\n",
       "      <td>2016-04-04 13:38:56</td>\n",
       "      <td>BMW_740i_4_4_Liter_HAMANN_UMBAU_Mega_Optik</td>\n",
       "      <td>privat</td>\n",
       "      <td>Angebot</td>\n",
       "      <td>$8,500</td>\n",
       "      <td>control</td>\n",
       "      <td>limousine</td>\n",
       "      <td>1997</td>\n",
       "      <td>automatik</td>\n",
       "      <td>286</td>\n",
       "      <td>7er</td>\n",
       "      <td>150,000km</td>\n",
       "      <td>6</td>\n",
       "      <td>benzin</td>\n",
       "      <td>bmw</td>\n",
       "      <td>nein</td>\n",
       "      <td>2016-04-04 00:00:00</td>\n",
       "      <td>0</td>\n",
       "      <td>71034</td>\n",
       "      <td>2016-04-06 14:45:08</td>\n",
       "    </tr>\n",
       "    <tr>\n",
       "      <td>2</td>\n",
       "      <td>2016-03-26 18:57:24</td>\n",
       "      <td>Volkswagen_Golf_1.6_United</td>\n",
       "      <td>privat</td>\n",
       "      <td>Angebot</td>\n",
       "      <td>$8,990</td>\n",
       "      <td>test</td>\n",
       "      <td>limousine</td>\n",
       "      <td>2009</td>\n",
       "      <td>manuell</td>\n",
       "      <td>102</td>\n",
       "      <td>golf</td>\n",
       "      <td>70,000km</td>\n",
       "      <td>7</td>\n",
       "      <td>benzin</td>\n",
       "      <td>volkswagen</td>\n",
       "      <td>nein</td>\n",
       "      <td>2016-03-26 00:00:00</td>\n",
       "      <td>0</td>\n",
       "      <td>35394</td>\n",
       "      <td>2016-04-06 20:15:37</td>\n",
       "    </tr>\n",
       "    <tr>\n",
       "      <td>3</td>\n",
       "      <td>2016-03-12 16:58:10</td>\n",
       "      <td>Smart_smart_fortwo_coupe_softouch/F1/Klima/Pan...</td>\n",
       "      <td>privat</td>\n",
       "      <td>Angebot</td>\n",
       "      <td>$4,350</td>\n",
       "      <td>control</td>\n",
       "      <td>kleinwagen</td>\n",
       "      <td>2007</td>\n",
       "      <td>automatik</td>\n",
       "      <td>71</td>\n",
       "      <td>fortwo</td>\n",
       "      <td>70,000km</td>\n",
       "      <td>6</td>\n",
       "      <td>benzin</td>\n",
       "      <td>smart</td>\n",
       "      <td>nein</td>\n",
       "      <td>2016-03-12 00:00:00</td>\n",
       "      <td>0</td>\n",
       "      <td>33729</td>\n",
       "      <td>2016-03-15 03:16:28</td>\n",
       "    </tr>\n",
       "    <tr>\n",
       "      <td>4</td>\n",
       "      <td>2016-04-01 14:38:50</td>\n",
       "      <td>Ford_Focus_1_6_Benzin_TÜV_neu_ist_sehr_gepfleg...</td>\n",
       "      <td>privat</td>\n",
       "      <td>Angebot</td>\n",
       "      <td>$1,350</td>\n",
       "      <td>test</td>\n",
       "      <td>kombi</td>\n",
       "      <td>2003</td>\n",
       "      <td>manuell</td>\n",
       "      <td>0</td>\n",
       "      <td>focus</td>\n",
       "      <td>150,000km</td>\n",
       "      <td>7</td>\n",
       "      <td>benzin</td>\n",
       "      <td>ford</td>\n",
       "      <td>nein</td>\n",
       "      <td>2016-04-01 00:00:00</td>\n",
       "      <td>0</td>\n",
       "      <td>39218</td>\n",
       "      <td>2016-04-01 14:38:50</td>\n",
       "    </tr>\n",
       "  </tbody>\n",
       "</table>\n",
       "</div>"
      ],
      "text/plain": [
       "           dateCrawled                                               name  \\\n",
       "0  2016-03-26 17:47:46                   Peugeot_807_160_NAVTECH_ON_BOARD   \n",
       "1  2016-04-04 13:38:56         BMW_740i_4_4_Liter_HAMANN_UMBAU_Mega_Optik   \n",
       "2  2016-03-26 18:57:24                         Volkswagen_Golf_1.6_United   \n",
       "3  2016-03-12 16:58:10  Smart_smart_fortwo_coupe_softouch/F1/Klima/Pan...   \n",
       "4  2016-04-01 14:38:50  Ford_Focus_1_6_Benzin_TÜV_neu_ist_sehr_gepfleg...   \n",
       "\n",
       "   seller offerType   price   abtest vehicleType  yearOfRegistration  \\\n",
       "0  privat   Angebot  $5,000  control         bus                2004   \n",
       "1  privat   Angebot  $8,500  control   limousine                1997   \n",
       "2  privat   Angebot  $8,990     test   limousine                2009   \n",
       "3  privat   Angebot  $4,350  control  kleinwagen                2007   \n",
       "4  privat   Angebot  $1,350     test       kombi                2003   \n",
       "\n",
       "     gearbox  powerPS   model   odometer  monthOfRegistration fuelType  \\\n",
       "0    manuell      158  andere  150,000km                    3      lpg   \n",
       "1  automatik      286     7er  150,000km                    6   benzin   \n",
       "2    manuell      102    golf   70,000km                    7   benzin   \n",
       "3  automatik       71  fortwo   70,000km                    6   benzin   \n",
       "4    manuell        0   focus  150,000km                    7   benzin   \n",
       "\n",
       "        brand notRepairedDamage          dateCreated  nrOfPictures  \\\n",
       "0     peugeot              nein  2016-03-26 00:00:00             0   \n",
       "1         bmw              nein  2016-04-04 00:00:00             0   \n",
       "2  volkswagen              nein  2016-03-26 00:00:00             0   \n",
       "3       smart              nein  2016-03-12 00:00:00             0   \n",
       "4        ford              nein  2016-04-01 00:00:00             0   \n",
       "\n",
       "   postalCode             lastSeen  \n",
       "0       79588  2016-04-06 06:45:54  \n",
       "1       71034  2016-04-06 14:45:08  \n",
       "2       35394  2016-04-06 20:15:37  \n",
       "3       33729  2016-03-15 03:16:28  \n",
       "4       39218  2016-04-01 14:38:50  "
      ]
     },
     "execution_count": 54,
     "metadata": {},
     "output_type": "execute_result"
    }
   ],
   "source": [
    "#Getting information about the dataframe\n",
    "autos.info()\n",
    "#getting first 5 rows of the dataframe\n",
    "autos.head()"
   ]
  },
  {
   "cell_type": "markdown",
   "metadata": {},
   "source": [
    "##                                          --------------------Part 2--------------------\n",
    "Use the DataFrame.columns attribute to print an array of the existing column names.\n",
    "Copy that array and make the following edits to columns names: \n",
    "    yearOfRegistration to registration_year \n",
    "    monthOfRegistration to registration_month \n",
    "    notRepairedDamage to unrepaired_damage \n",
    "    dateCreated to ad_created \n",
    "The rest of the columnn names from camelcase to snakecase.\n",
    "Assign the modified column names back to the DataFrame.columns attribute. \n",
    "Use DataFrame.head() to look at the current state of the autos dataframe."
   ]
  },
  {
   "cell_type": "markdown",
   "metadata": {},
   "source": [
    "##                                         -----------Solution Of Part 2----------------\n"
   ]
  },
  {
   "cell_type": "code",
   "execution_count": 55,
   "metadata": {},
   "outputs": [],
   "source": [
    "#Getting column names of the dataframe\n",
    "list_columns=list(autos.columns)"
   ]
  },
  {
   "cell_type": "code",
   "execution_count": 56,
   "metadata": {},
   "outputs": [],
   "source": [
    "#Renaming columns as asked in the excersise\n",
    "autos.rename(columns={\n",
    "        \"yearOfRegistration\":\"registration_year\",\n",
    "        \"monthOfRegistration\":\"registration_month\",\n",
    "        \"notRepairedDamage\":\"unrepaired_damage\",\n",
    "        \"dateCreated\":\"ad_created\"},inplace=True)"
   ]
  },
  {
   "cell_type": "code",
   "execution_count": 57,
   "metadata": {},
   "outputs": [],
   "source": [
    "#Function to convert column names in Snake Case\n",
    "def to_snake_case(str):\n",
    "    return ''.join(['_'+i.lower() if i.isupper()  \n",
    "               else i for i in str]).lstrip('_') \n",
    "         \n",
    "#Applying for loop and passing string in the function\n",
    "j=0\n",
    "for i in list_columns:\n",
    "    list_columns[j]=to_snake_case(list_columns[j])\n",
    "    j=j+1\n",
    "#assigning modified name to column names\n",
    "autos.columns=list_columns"
   ]
  },
  {
   "cell_type": "markdown",
   "metadata": {},
   "source": [
    "##                                          --------------------Part 3--------------------\n",
    "\n",
    "Use DataFrame.describe() to look at descriptive statistics for all columns.\n",
    "Write a markdown cell noting: Any columns that have mostly one value that are candidates to be dropped Any columns that need more investigation.Any examples of numeric data stored as text that needs to be cleaned.\n",
    "If you need to investigate any columns more, do so and write up any additional things you found.You likely found that the price and odometer columns are numeric values stored as text.For each column: Remove any non-numeric characters. Convert the column to a numeric dtype.Use DataFrame.rename() to rename the column to odometer_km."
   ]
  },
  {
   "cell_type": "markdown",
   "metadata": {},
   "source": [
    "##                                          --------------------Solution to Part 3--------------------"
   ]
  },
  {
   "cell_type": "code",
   "execution_count": 58,
   "metadata": {},
   "outputs": [
    {
     "data": {
      "text/html": [
       "<div>\n",
       "<style scoped>\n",
       "    .dataframe tbody tr th:only-of-type {\n",
       "        vertical-align: middle;\n",
       "    }\n",
       "\n",
       "    .dataframe tbody tr th {\n",
       "        vertical-align: top;\n",
       "    }\n",
       "\n",
       "    .dataframe thead th {\n",
       "        text-align: right;\n",
       "    }\n",
       "</style>\n",
       "<table border=\"1\" class=\"dataframe\">\n",
       "  <thead>\n",
       "    <tr style=\"text-align: right;\">\n",
       "      <th></th>\n",
       "      <th>year_of_registration</th>\n",
       "      <th>power_p_s</th>\n",
       "      <th>month_of_registration</th>\n",
       "      <th>nr_of_pictures</th>\n",
       "      <th>postal_code</th>\n",
       "    </tr>\n",
       "  </thead>\n",
       "  <tbody>\n",
       "    <tr>\n",
       "      <td>count</td>\n",
       "      <td>50000.000000</td>\n",
       "      <td>50000.000000</td>\n",
       "      <td>50000.000000</td>\n",
       "      <td>50000.0</td>\n",
       "      <td>50000.000000</td>\n",
       "    </tr>\n",
       "    <tr>\n",
       "      <td>mean</td>\n",
       "      <td>2005.073280</td>\n",
       "      <td>116.355920</td>\n",
       "      <td>5.723360</td>\n",
       "      <td>0.0</td>\n",
       "      <td>50813.627300</td>\n",
       "    </tr>\n",
       "    <tr>\n",
       "      <td>std</td>\n",
       "      <td>105.712813</td>\n",
       "      <td>209.216627</td>\n",
       "      <td>3.711984</td>\n",
       "      <td>0.0</td>\n",
       "      <td>25779.747957</td>\n",
       "    </tr>\n",
       "    <tr>\n",
       "      <td>min</td>\n",
       "      <td>1000.000000</td>\n",
       "      <td>0.000000</td>\n",
       "      <td>0.000000</td>\n",
       "      <td>0.0</td>\n",
       "      <td>1067.000000</td>\n",
       "    </tr>\n",
       "    <tr>\n",
       "      <td>25%</td>\n",
       "      <td>1999.000000</td>\n",
       "      <td>70.000000</td>\n",
       "      <td>3.000000</td>\n",
       "      <td>0.0</td>\n",
       "      <td>30451.000000</td>\n",
       "    </tr>\n",
       "    <tr>\n",
       "      <td>50%</td>\n",
       "      <td>2003.000000</td>\n",
       "      <td>105.000000</td>\n",
       "      <td>6.000000</td>\n",
       "      <td>0.0</td>\n",
       "      <td>49577.000000</td>\n",
       "    </tr>\n",
       "    <tr>\n",
       "      <td>75%</td>\n",
       "      <td>2008.000000</td>\n",
       "      <td>150.000000</td>\n",
       "      <td>9.000000</td>\n",
       "      <td>0.0</td>\n",
       "      <td>71540.000000</td>\n",
       "    </tr>\n",
       "    <tr>\n",
       "      <td>max</td>\n",
       "      <td>9999.000000</td>\n",
       "      <td>17700.000000</td>\n",
       "      <td>12.000000</td>\n",
       "      <td>0.0</td>\n",
       "      <td>99998.000000</td>\n",
       "    </tr>\n",
       "  </tbody>\n",
       "</table>\n",
       "</div>"
      ],
      "text/plain": [
       "       year_of_registration     power_p_s  month_of_registration  \\\n",
       "count          50000.000000  50000.000000           50000.000000   \n",
       "mean            2005.073280    116.355920               5.723360   \n",
       "std              105.712813    209.216627               3.711984   \n",
       "min             1000.000000      0.000000               0.000000   \n",
       "25%             1999.000000     70.000000               3.000000   \n",
       "50%             2003.000000    105.000000               6.000000   \n",
       "75%             2008.000000    150.000000               9.000000   \n",
       "max             9999.000000  17700.000000              12.000000   \n",
       "\n",
       "       nr_of_pictures   postal_code  \n",
       "count         50000.0  50000.000000  \n",
       "mean              0.0  50813.627300  \n",
       "std               0.0  25779.747957  \n",
       "min               0.0   1067.000000  \n",
       "25%               0.0  30451.000000  \n",
       "50%               0.0  49577.000000  \n",
       "75%               0.0  71540.000000  \n",
       "max               0.0  99998.000000  "
      ]
     },
     "execution_count": 58,
     "metadata": {},
     "output_type": "execute_result"
    }
   ],
   "source": [
    "#To describe dataframe\n",
    "autos.describe()"
   ]
  },
  {
   "cell_type": "markdown",
   "metadata": {},
   "source": [
    "##### DataType correction\n",
    "date_crawled             50000 non-null object ---------->Should be DateTime Object\n",
    "price                    50000 non-null object ---------->Should be integer\n",
    "odometer                 50000 non-null object ---------->Should be integer\n",
    "date_created             50000 non-null object ---------->Should be Date Time \n",
    "last_seen                50000 non-null object ---------->Should be Date"
   ]
  },
  {
   "cell_type": "code",
   "execution_count": 59,
   "metadata": {},
   "outputs": [],
   "source": [
    "#Replacing special symbols \"$ & ,\" from Price\n",
    "autos.price=autos.price.str.replace(\",\",\"\").str.replace(\"$\",\"\").astype(int)"
   ]
  },
  {
   "cell_type": "code",
   "execution_count": 60,
   "metadata": {},
   "outputs": [],
   "source": [
    "#Renaming odometer column to odomete_KM for better understanding and removing \",\" & \"KM\" from odometer data.\n",
    "#Converting type of odometer_km from object to float\n",
    "autos.rename(columns={\"odometer\":\"odometer_km\"},inplace=True)\n",
    "autos.odometer_km=autos.odometer_km.str.replace(\",\",\"\").str.replace(\"km\",\"\").astype(float)"
   ]
  },
  {
   "cell_type": "code",
   "execution_count": 61,
   "metadata": {},
   "outputs": [],
   "source": [
    "#Conveting date_crawled to datetime\n",
    "autos.date_crawled=pd.to_datetime(autos.date_crawled)"
   ]
  },
  {
   "cell_type": "code",
   "execution_count": 62,
   "metadata": {},
   "outputs": [],
   "source": [
    "#Conveting date_created to datetime\n",
    "autos.date_created=pd.to_datetime(autos.date_created)"
   ]
  },
  {
   "cell_type": "code",
   "execution_count": 63,
   "metadata": {},
   "outputs": [],
   "source": [
    "#Conveting last_seen to datetime\n",
    "autos.last_seen=pd.to_datetime(autos.last_seen)"
   ]
  },
  {
   "cell_type": "markdown",
   "metadata": {},
   "source": [
    "#### Identifying columns to drop.\n",
    "Since **nr_of_pictures** has values 0 for all records hence no influnnce in the model, thus candidate for **dropping**.\n"
   ]
  },
  {
   "cell_type": "code",
   "execution_count": 64,
   "metadata": {},
   "outputs": [],
   "source": [
    "autos.drop([\"nr_of_pictures\"],1,inplace=True)"
   ]
  },
  {
   "cell_type": "markdown",
   "metadata": {},
   "source": [
    "**seller** column has 2 values with 49999 records having same and 1 of different hence no influnce on the model.Thus **candidate for dropping.**\n"
   ]
  },
  {
   "cell_type": "code",
   "execution_count": 65,
   "metadata": {},
   "outputs": [],
   "source": [
    "autos.drop([\"seller\"],1,inplace=True)"
   ]
  },
  {
   "cell_type": "markdown",
   "metadata": {},
   "source": [
    "**Offer_type** has similar type of value for all records except 1 thus **candidate of dropping.**\n"
   ]
  },
  {
   "cell_type": "code",
   "execution_count": 66,
   "metadata": {},
   "outputs": [],
   "source": [
    "autos.drop([\"offer_type\"],1,inplace=True)"
   ]
  },
  {
   "cell_type": "markdown",
   "metadata": {},
   "source": [
    "**postal_code** is a demographic data having not much influence thus **candidate of dropping.**"
   ]
  },
  {
   "cell_type": "code",
   "execution_count": 67,
   "metadata": {},
   "outputs": [],
   "source": [
    "autos.drop([\"postal_code\"],1,inplace=True)"
   ]
  },
  {
   "cell_type": "markdown",
   "metadata": {},
   "source": [
    "##                                          --------------------Part 4--------------------\n",
    "**For each of the odometer_km and price columns:**\n",
    "      Use the techniques above to explore the data If you find there are outliers, remove them and write a markdown paragraph explaining your decision. \n",
    "    After you have removed the outliers, make some observations about the remaining values."
   ]
  },
  {
   "cell_type": "markdown",
   "metadata": {},
   "source": [
    "##                                    --------------------Solution of Part 4--------------------\n",
    "\n",
    "####            =============Analysis of odometer_km data================="
   ]
  },
  {
   "cell_type": "code",
   "execution_count": 68,
   "metadata": {},
   "outputs": [
    {
     "data": {
      "text/plain": [
       "100000.0    2169\n",
       "90000.0     1757\n",
       "80000.0     1436\n",
       "70000.0     1230\n",
       "60000.0     1164\n",
       "50000.0     1027\n",
       "5000.0       967\n",
       "40000.0      819\n",
       "30000.0      789\n",
       "20000.0      784\n",
       "10000.0      264\n",
       "Name: odometer_km, dtype: int64"
      ]
     },
     "execution_count": 68,
     "metadata": {},
     "output_type": "execute_result"
    }
   ],
   "source": [
    "autos[autos[\"odometer_km\"]<125000].odometer_km.value_counts()"
   ]
  },
  {
   "cell_type": "code",
   "execution_count": 69,
   "metadata": {},
   "outputs": [
    {
     "data": {
      "text/plain": [
       "12406"
      ]
     },
     "execution_count": 69,
     "metadata": {},
     "output_type": "execute_result"
    }
   ],
   "source": [
    "autos[autos[\"odometer_km\"]<125000].odometer_km.value_counts().sum()"
   ]
  },
  {
   "cell_type": "code",
   "execution_count": 70,
   "metadata": {},
   "outputs": [
    {
     "data": {
      "text/plain": [
       "32424"
      ]
     },
     "execution_count": 70,
     "metadata": {},
     "output_type": "execute_result"
    }
   ],
   "source": [
    "autos[autos[\"odometer_km\"]>125000].odometer_km.value_counts().sum()"
   ]
  },
  {
   "cell_type": "code",
   "execution_count": 71,
   "metadata": {},
   "outputs": [
    {
     "data": {
      "text/plain": [
       "5170"
      ]
     },
     "execution_count": 71,
     "metadata": {},
     "output_type": "execute_result"
    }
   ],
   "source": [
    "autos[autos[\"odometer_km\"]==125000].odometer_km.value_counts().sum()"
   ]
  },
  {
   "cell_type": "markdown",
   "metadata": {},
   "source": [
    "Above analysis of data suggest there are huge values however not necessary these are outliers.Since these are KM driven and the car is used car,it is highly likely that owner of the car has driven these many KM.Will further investigate on Price data for finding if there are any outlier."
   ]
  },
  {
   "cell_type": "markdown",
   "metadata": {},
   "source": [
    "####            =============Analysis of price data================="
   ]
  },
  {
   "cell_type": "code",
   "execution_count": 72,
   "metadata": {},
   "outputs": [
    {
     "data": {
      "text/plain": [
       "0        1421\n",
       "500       781\n",
       "1500      734\n",
       "2500      643\n",
       "1000      639\n",
       "         ... \n",
       "20790       1\n",
       "8970        1\n",
       "846         1\n",
       "2895        1\n",
       "33980       1\n",
       "Name: price, Length: 2357, dtype: int64"
      ]
     },
     "execution_count": 72,
     "metadata": {},
     "output_type": "execute_result"
    }
   ],
   "source": [
    "autos.price.value_counts()"
   ]
  },
  {
   "cell_type": "markdown",
   "metadata": {},
   "source": [
    "Above analysis says there are data in **price** columns with **values 0** and few with **single entries.**"
   ]
  },
  {
   "cell_type": "code",
   "execution_count": 73,
   "metadata": {},
   "outputs": [
    {
     "data": {
      "text/plain": [
       "1421"
      ]
     },
     "execution_count": 73,
     "metadata": {},
     "output_type": "execute_result"
    }
   ],
   "source": [
    "#For Finding total number pf records with price as 0\n",
    "autos[autos.price==0].price.value_counts().sum()"
   ]
  },
  {
   "cell_type": "markdown",
   "metadata": {},
   "source": [
    "There are **1421** records having **price as 0**.Since this is an advertisement for **selling cars**, there should not be any advertisement of used car having price as 0. Thus **droping these records.**\n"
   ]
  },
  {
   "cell_type": "code",
   "execution_count": 74,
   "metadata": {},
   "outputs": [],
   "source": [
    "autos.drop(autos[autos.price==0].index,0,inplace=True)"
   ]
  },
  {
   "cell_type": "code",
   "execution_count": 75,
   "metadata": {},
   "outputs": [],
   "source": [
    "#Sorting dataframe on price column in descending\n",
    "autos.sort_values(\"price\",ascending=False,inplace=True)"
   ]
  },
  {
   "cell_type": "markdown",
   "metadata": {},
   "source": [
    "Post sorting price in decending, it is evident there are values not practically possible for price of used cars.droping top 7 rows of price having outliers."
   ]
  },
  {
   "cell_type": "code",
   "execution_count": 76,
   "metadata": {},
   "outputs": [],
   "source": [
    "autos.drop(autos.price.head(7).index,0,inplace=True)"
   ]
  },
  {
   "cell_type": "code",
   "execution_count": 77,
   "metadata": {},
   "outputs": [
    {
     "data": {
      "text/plain": [
       "<matplotlib.collections.PathCollection at 0x28c6531e908>"
      ]
     },
     "execution_count": 77,
     "metadata": {},
     "output_type": "execute_result"
    },
    {
     "data": {
      "image/png": "[encoded data removed]",
      "text/plain": [
       "<Figure size 432x288 with 1 Axes>"
      ]
     },
     "metadata": {
      "needs_background": "light"
     },
     "output_type": "display_data"
    }
   ],
   "source": [
    "#Plotting scatterplot still shows 2 outliers in price.droping those 2 as well.\n",
    "import matplotlib.pyplot as plt\n",
    "plt.scatter(autos.price,autos.price)"
   ]
  },
  {
   "cell_type": "markdown",
   "metadata": {},
   "source": [
    "With help of above scatter plot it seems there are still few outliers,dropping top 2."
   ]
  },
  {
   "cell_type": "code",
   "execution_count": 78,
   "metadata": {},
   "outputs": [],
   "source": [
    "autos.drop(autos.price.head(2).index,0,inplace=True)"
   ]
  },
  {
   "cell_type": "markdown",
   "metadata": {},
   "source": [
    "Further analysis shows price range is still skewed thus **dropping columns having price as 1**"
   ]
  },
  {
   "cell_type": "code",
   "execution_count": 79,
   "metadata": {},
   "outputs": [],
   "source": [
    "autos.drop(autos[autos.price==1].price.index,0,inplace=True)"
   ]
  },
  {
   "cell_type": "markdown",
   "metadata": {},
   "source": [
    "Plotting scatter plot to check if there are still outliers.\n"
   ]
  },
  {
   "cell_type": "code",
   "execution_count": 80,
   "metadata": {},
   "outputs": [
    {
     "data": {
      "text/plain": [
       "<matplotlib.collections.PathCollection at 0x28c68365948>"
      ]
     },
     "execution_count": 80,
     "metadata": {},
     "output_type": "execute_result"
    },
    {
     "data": {
      "image/png": "[encoded data removed]",
      "text/plain": [
       "<Figure size 432x288 with 1 Axes>"
      ]
     },
     "metadata": {
      "needs_background": "light"
     },
     "output_type": "display_data"
    }
   ],
   "source": [
    "plt.scatter(autos.price,autos.odometer_km)"
   ]
  },
  {
   "cell_type": "markdown",
   "metadata": {},
   "source": [
    "Further analysis reveals there are still outliers for odometer_km & price.Since these are used cars with more odometer_KM the price of car should not increase.**Removing 5 outliers from price more than 600000**"
   ]
  },
  {
   "cell_type": "code",
   "execution_count": 81,
   "metadata": {},
   "outputs": [],
   "source": [
    "autos.drop(autos[autos.price>600000].index,0,inplace=True)"
   ]
  },
  {
   "cell_type": "markdown",
   "metadata": {},
   "source": [
    "#### Binning data for analysis\n",
    "Defining bin using **qcut**"
   ]
  },
  {
   "cell_type": "code",
   "execution_count": 82,
   "metadata": {},
   "outputs": [
    {
     "data": {
      "text/plain": [
       "<matplotlib.axes._subplots.AxesSubplot at 0x28c66f82c88>"
      ]
     },
     "execution_count": 82,
     "metadata": {},
     "output_type": "execute_result"
    },
    {
     "data": {
      "image/png": "[encoded data removed]",
      "text/plain": [
       "<Figure size 432x288 with 1 Axes>"
      ]
     },
     "metadata": {
      "needs_background": "light"
     },
     "output_type": "display_data"
    }
   ],
   "source": [
    "pd.qcut(autos['price'], q=7).value_counts().plot(kind=\"hist\")"
   ]
  },
  {
   "cell_type": "markdown",
   "metadata": {},
   "source": [
    "##                                          --------------------Part 5--------------------\n",
    "Use the workflow we just described to calculate the distribution of values in the date_crawled,ad_created, and last_seen columns (all string columns) as percentages.To include missing values in the distribution and to use percentages instead of counts,chain the Series.value_counts(normalize=True, dropna=False) method.To rank by date in ascending order (earliest to latest), chain the Series.sort_index() method.Write a markdown cell after each column exploration to explain your observations.\n",
    "Use Series.describe() to understand the distribution of registration_year."
   ]
  },
  {
   "cell_type": "markdown",
   "metadata": {},
   "source": [
    "##                                    --------------------Solution of Part 5--------------------"
   ]
  },
  {
   "cell_type": "code",
   "execution_count": 83,
   "metadata": {},
   "outputs": [],
   "source": [
    "#Converting data in date_crawled from yyyy-mm-dd hh:mm:ss to yyyy-mm-dd\n",
    "autos.date_crawled=pd.to_datetime(autos.date_crawled,format='%d/%m/%y').dt.strftime('%d-%m-%Y')"
   ]
  },
  {
   "cell_type": "code",
   "execution_count": 84,
   "metadata": {},
   "outputs": [],
   "source": [
    "#Converting data in date_created from yyyy-mm-dd hh:mm:ss to yyyy-mm-dd\n",
    "autos.date_created=pd.to_datetime(autos.date_created,format='%d/%m/%y').dt.strftime('%d-%m-%Y')"
   ]
  },
  {
   "cell_type": "code",
   "execution_count": 85,
   "metadata": {},
   "outputs": [],
   "source": [
    "#Converting data in last_seen from yyyy-mm-dd hh:mm:ss to yyyy-mm-dd\n",
    "autos.last_seen=pd.to_datetime(autos.last_seen,format='%d/%m/%y').dt.strftime('%d-%m-%Y')"
   ]
  },
  {
   "cell_type": "code",
   "execution_count": 86,
   "metadata": {},
   "outputs": [
    {
     "data": {
      "text/plain": [
       "03-2016    40543\n",
       "04-2016     7787\n",
       "02-2016       61\n",
       "01-2016       12\n",
       "12-2015        2\n",
       "08-2015        1\n",
       "06-2015        1\n",
       "11-2015        1\n",
       "09-2015        1\n",
       "Name: date_created, dtype: int64"
      ]
     },
     "execution_count": 86,
     "metadata": {},
     "output_type": "execute_result"
    }
   ],
   "source": [
    "#Checking ads created(date_created) in the month of the year\n",
    "pd.to_datetime(autos.date_created,format='%d-%m-%Y').dt.strftime('%m-%Y').value_counts()"
   ]
  },
  {
   "cell_type": "code",
   "execution_count": 87,
   "metadata": {},
   "outputs": [
    {
     "data": {
      "text/plain": [
       "03-2016    40571\n",
       "04-2016     7838\n",
       "Name: date_crawled, dtype: int64"
      ]
     },
     "execution_count": 87,
     "metadata": {},
     "output_type": "execute_result"
    }
   ],
   "source": [
    "#Checking date_crawled in the month of the year\n",
    "pd.to_datetime(autos.date_crawled,format='%d-%m-%Y').dt.strftime('%m-%Y').value_counts()"
   ]
  },
  {
   "cell_type": "code",
   "execution_count": 88,
   "metadata": {},
   "outputs": [
    {
     "data": {
      "text/plain": [
       "04-2016    27882\n",
       "03-2016    20527\n",
       "Name: last_seen, dtype: int64"
      ]
     },
     "execution_count": 88,
     "metadata": {},
     "output_type": "execute_result"
    }
   ],
   "source": [
    "#Checking last_seen in the month of the year\n",
    "pd.to_datetime(autos.last_seen,format='%d-%m-%Y').dt.strftime('%m-%Y').value_counts()"
   ]
  },
  {
   "cell_type": "code",
   "execution_count": 89,
   "metadata": {},
   "outputs": [
    {
     "data": {
      "text/plain": [
       "03-04-2016    0.038588\n",
       "20-03-2016    0.037803\n",
       "21-03-2016    0.037307\n",
       "12-03-2016    0.036956\n",
       "14-03-2016    0.036625\n",
       "04-04-2016    0.036481\n",
       "07-03-2016    0.036047\n",
       "02-04-2016    0.035489\n",
       "28-03-2016    0.034849\n",
       "19-03-2016    0.034746\n",
       "15-03-2016    0.034270\n",
       "29-03-2016    0.034126\n",
       "30-03-2016    0.033733\n",
       "01-04-2016    0.033733\n",
       "08-03-2016    0.033279\n",
       "09-03-2016    0.033052\n",
       "22-03-2016    0.032928\n",
       "11-03-2016    0.032597\n",
       "23-03-2016    0.032267\n",
       "26-03-2016    0.032246\n",
       "10-03-2016    0.032205\n",
       "31-03-2016    0.031812\n",
       "17-03-2016    0.031626\n",
       "25-03-2016    0.031564\n",
       "27-03-2016    0.031131\n",
       "16-03-2016    0.029519\n",
       "24-03-2016    0.029395\n",
       "05-03-2016    0.025367\n",
       "13-03-2016    0.015658\n",
       "06-03-2016    0.014068\n",
       "05-04-2016    0.013076\n",
       "18-03-2016    0.012911\n",
       "06-04-2016    0.003161\n",
       "07-04-2016    0.001384\n",
       "Name: date_crawled, dtype: float64"
      ]
     },
     "execution_count": 89,
     "metadata": {},
     "output_type": "execute_result"
    }
   ],
   "source": [
    "#Checking percenatge of date_crawled\n",
    "autos.date_crawled.value_counts(normalize=True,dropna=False)"
   ]
  },
  {
   "cell_type": "code",
   "execution_count": 90,
   "metadata": {},
   "outputs": [],
   "source": [
    "#Working with DateTime\n",
    "import datetime as dt\n",
    "autos['age_of_vehicle_months']=(dt.datetime.now().year-autos.year_of_registration)*12 + autos.month_of_registration"
   ]
  },
  {
   "cell_type": "markdown",
   "metadata": {},
   "source": [
    "After calculating age of vehicle it looks like their are vehicles having **negative age**, which can't be the case.\n",
    "Hence dropping such records."
   ]
  },
  {
   "cell_type": "code",
   "execution_count": 91,
   "metadata": {},
   "outputs": [],
   "source": [
    "autos.drop(autos[autos.age_of_vehicle_months<0].age_of_vehicle_months.index,0,inplace=True)"
   ]
  },
  {
   "cell_type": "code",
   "execution_count": 92,
   "metadata": {},
   "outputs": [],
   "source": [
    "#Month of registration values has 0 which can't be the case, replacing all 0 with 1 for start of the year.\n",
    "autos.month_of_registration=autos.month_of_registration.replace(0,1)"
   ]
  },
  {
   "cell_type": "markdown",
   "metadata": {},
   "source": [
    "**Note To Check with**\n",
    "#???????????Confused?????????How to conver month.\n",
    "\n",
    "#autos['age_in_month']=pd.to_datetime((autos.month_of_registration.astype(str)+\"-\"+autos.year_of_registration.astype(str)),format='%m-%Y').dt.strftime('%m-%Y')\n"
   ]
  },
  {
   "cell_type": "markdown",
   "metadata": {},
   "source": [
    "##                                          --------------------Part 6--------------------\n",
    "Decide which the highest and lowest acceptable values are for the registration_year column.Write a markdown cell explaining your decision and why.Remove the values outside those upper and lower bounds and calculate the distribution of the remaining values using Series.value_counts(normalize=True).Write a markdown cell explaining your observations"
   ]
  },
  {
   "cell_type": "markdown",
   "metadata": {},
   "source": [
    "##                                          -------------Solution of Part 6----------------"
   ]
  },
  {
   "cell_type": "markdown",
   "metadata": {},
   "source": [
    "Analysis shows there are **9** records having **age of vehicle** more than **100 Yrs**.Which doesn't seem to be correct.Removing these records.\n"
   ]
  },
  {
   "cell_type": "code",
   "execution_count": 93,
   "metadata": {},
   "outputs": [
    {
     "data": {
      "text/html": [
       "<div>\n",
       "<style scoped>\n",
       "    .dataframe tbody tr th:only-of-type {\n",
       "        vertical-align: middle;\n",
       "    }\n",
       "\n",
       "    .dataframe tbody tr th {\n",
       "        vertical-align: top;\n",
       "    }\n",
       "\n",
       "    .dataframe thead th {\n",
       "        text-align: right;\n",
       "    }\n",
       "</style>\n",
       "<table border=\"1\" class=\"dataframe\">\n",
       "  <thead>\n",
       "    <tr style=\"text-align: right;\">\n",
       "      <th></th>\n",
       "      <th>date_crawled</th>\n",
       "      <th>name</th>\n",
       "      <th>price</th>\n",
       "      <th>abtest</th>\n",
       "      <th>vehicle_type</th>\n",
       "      <th>year_of_registration</th>\n",
       "      <th>gearbox</th>\n",
       "      <th>power_p_s</th>\n",
       "      <th>model</th>\n",
       "      <th>odometer_km</th>\n",
       "      <th>month_of_registration</th>\n",
       "      <th>fuel_type</th>\n",
       "      <th>brand</th>\n",
       "      <th>not_repaired_damage</th>\n",
       "      <th>date_created</th>\n",
       "      <th>last_seen</th>\n",
       "      <th>age_of_vehicle_months</th>\n",
       "    </tr>\n",
       "  </thead>\n",
       "  <tbody>\n",
       "    <tr>\n",
       "      <td>49283</td>\n",
       "      <td>15-03-2016</td>\n",
       "      <td>Citroen_HY</td>\n",
       "      <td>7750</td>\n",
       "      <td>control</td>\n",
       "      <td>NaN</td>\n",
       "      <td>1001</td>\n",
       "      <td>NaN</td>\n",
       "      <td>0</td>\n",
       "      <td>andere</td>\n",
       "      <td>5000.0</td>\n",
       "      <td>1</td>\n",
       "      <td>NaN</td>\n",
       "      <td>citroen</td>\n",
       "      <td>NaN</td>\n",
       "      <td>15-03-2016</td>\n",
       "      <td>06-04-2016</td>\n",
       "      <td>12228</td>\n",
       "    </tr>\n",
       "    <tr>\n",
       "      <td>22316</td>\n",
       "      <td>29-03-2016</td>\n",
       "      <td>VW_Kaefer.__Zwei_zum_Preis_von_einem.</td>\n",
       "      <td>1500</td>\n",
       "      <td>control</td>\n",
       "      <td>NaN</td>\n",
       "      <td>1000</td>\n",
       "      <td>manuell</td>\n",
       "      <td>0</td>\n",
       "      <td>kaefer</td>\n",
       "      <td>5000.0</td>\n",
       "      <td>1</td>\n",
       "      <td>benzin</td>\n",
       "      <td>volkswagen</td>\n",
       "      <td>NaN</td>\n",
       "      <td>29-03-2016</td>\n",
       "      <td>31-03-2016</td>\n",
       "      <td>12240</td>\n",
       "    </tr>\n",
       "    <tr>\n",
       "      <td>28693</td>\n",
       "      <td>22-03-2016</td>\n",
       "      <td>Renault_Twingo</td>\n",
       "      <td>599</td>\n",
       "      <td>control</td>\n",
       "      <td>kleinwagen</td>\n",
       "      <td>1910</td>\n",
       "      <td>manuell</td>\n",
       "      <td>0</td>\n",
       "      <td>NaN</td>\n",
       "      <td>5000.0</td>\n",
       "      <td>1</td>\n",
       "      <td>benzin</td>\n",
       "      <td>renault</td>\n",
       "      <td>NaN</td>\n",
       "      <td>22-03-2016</td>\n",
       "      <td>06-04-2016</td>\n",
       "      <td>1320</td>\n",
       "    </tr>\n",
       "    <tr>\n",
       "      <td>22659</td>\n",
       "      <td>14-03-2016</td>\n",
       "      <td>Opel_Corsa_B</td>\n",
       "      <td>500</td>\n",
       "      <td>test</td>\n",
       "      <td>NaN</td>\n",
       "      <td>1910</td>\n",
       "      <td>NaN</td>\n",
       "      <td>0</td>\n",
       "      <td>corsa</td>\n",
       "      <td>150000.0</td>\n",
       "      <td>1</td>\n",
       "      <td>NaN</td>\n",
       "      <td>opel</td>\n",
       "      <td>NaN</td>\n",
       "      <td>14-03-2016</td>\n",
       "      <td>03-04-2016</td>\n",
       "      <td>1320</td>\n",
       "    </tr>\n",
       "    <tr>\n",
       "      <td>24511</td>\n",
       "      <td>17-03-2016</td>\n",
       "      <td>Trabant__wartburg__Ostalgie</td>\n",
       "      <td>490</td>\n",
       "      <td>control</td>\n",
       "      <td>NaN</td>\n",
       "      <td>1111</td>\n",
       "      <td>NaN</td>\n",
       "      <td>0</td>\n",
       "      <td>NaN</td>\n",
       "      <td>5000.0</td>\n",
       "      <td>1</td>\n",
       "      <td>NaN</td>\n",
       "      <td>trabant</td>\n",
       "      <td>NaN</td>\n",
       "      <td>17-03-2016</td>\n",
       "      <td>07-04-2016</td>\n",
       "      <td>10908</td>\n",
       "    </tr>\n",
       "    <tr>\n",
       "      <td>10556</td>\n",
       "      <td>01-04-2016</td>\n",
       "      <td>UNFAL_Auto</td>\n",
       "      <td>450</td>\n",
       "      <td>control</td>\n",
       "      <td>NaN</td>\n",
       "      <td>1800</td>\n",
       "      <td>NaN</td>\n",
       "      <td>1800</td>\n",
       "      <td>NaN</td>\n",
       "      <td>5000.0</td>\n",
       "      <td>2</td>\n",
       "      <td>NaN</td>\n",
       "      <td>mitsubishi</td>\n",
       "      <td>nein</td>\n",
       "      <td>01-04-2016</td>\n",
       "      <td>01-04-2016</td>\n",
       "      <td>2642</td>\n",
       "    </tr>\n",
       "    <tr>\n",
       "      <td>32585</td>\n",
       "      <td>02-04-2016</td>\n",
       "      <td>UNFAL_Auto</td>\n",
       "      <td>450</td>\n",
       "      <td>control</td>\n",
       "      <td>NaN</td>\n",
       "      <td>1800</td>\n",
       "      <td>NaN</td>\n",
       "      <td>1800</td>\n",
       "      <td>NaN</td>\n",
       "      <td>5000.0</td>\n",
       "      <td>2</td>\n",
       "      <td>NaN</td>\n",
       "      <td>mitsubishi</td>\n",
       "      <td>nein</td>\n",
       "      <td>02-04-2016</td>\n",
       "      <td>04-04-2016</td>\n",
       "      <td>2642</td>\n",
       "    </tr>\n",
       "    <tr>\n",
       "      <td>30781</td>\n",
       "      <td>25-03-2016</td>\n",
       "      <td>Opel_Calibra_V6_DTM_Bausatz_1:24</td>\n",
       "      <td>30</td>\n",
       "      <td>test</td>\n",
       "      <td>NaN</td>\n",
       "      <td>1910</td>\n",
       "      <td>NaN</td>\n",
       "      <td>0</td>\n",
       "      <td>calibra</td>\n",
       "      <td>100000.0</td>\n",
       "      <td>1</td>\n",
       "      <td>NaN</td>\n",
       "      <td>opel</td>\n",
       "      <td>NaN</td>\n",
       "      <td>25-03-2016</td>\n",
       "      <td>26-03-2016</td>\n",
       "      <td>1320</td>\n",
       "    </tr>\n",
       "    <tr>\n",
       "      <td>45157</td>\n",
       "      <td>11-03-2016</td>\n",
       "      <td>Motorhaube</td>\n",
       "      <td>15</td>\n",
       "      <td>control</td>\n",
       "      <td>NaN</td>\n",
       "      <td>1910</td>\n",
       "      <td>NaN</td>\n",
       "      <td>0</td>\n",
       "      <td>NaN</td>\n",
       "      <td>5000.0</td>\n",
       "      <td>1</td>\n",
       "      <td>NaN</td>\n",
       "      <td>trabant</td>\n",
       "      <td>NaN</td>\n",
       "      <td>11-03-2016</td>\n",
       "      <td>25-03-2016</td>\n",
       "      <td>1320</td>\n",
       "    </tr>\n",
       "  </tbody>\n",
       "</table>\n",
       "</div>"
      ],
      "text/plain": [
       "      date_crawled                                   name  price   abtest  \\\n",
       "49283   15-03-2016                             Citroen_HY   7750  control   \n",
       "22316   29-03-2016  VW_Kaefer.__Zwei_zum_Preis_von_einem.   1500  control   \n",
       "28693   22-03-2016                         Renault_Twingo    599  control   \n",
       "22659   14-03-2016                           Opel_Corsa_B    500     test   \n",
       "24511   17-03-2016            Trabant__wartburg__Ostalgie    490  control   \n",
       "10556   01-04-2016                             UNFAL_Auto    450  control   \n",
       "32585   02-04-2016                             UNFAL_Auto    450  control   \n",
       "30781   25-03-2016       Opel_Calibra_V6_DTM_Bausatz_1:24     30     test   \n",
       "45157   11-03-2016                             Motorhaube     15  control   \n",
       "\n",
       "      vehicle_type  year_of_registration  gearbox  power_p_s    model  \\\n",
       "49283          NaN                  1001      NaN          0   andere   \n",
       "22316          NaN                  1000  manuell          0   kaefer   \n",
       "28693   kleinwagen                  1910  manuell          0      NaN   \n",
       "22659          NaN                  1910      NaN          0    corsa   \n",
       "24511          NaN                  1111      NaN          0      NaN   \n",
       "10556          NaN                  1800      NaN       1800      NaN   \n",
       "32585          NaN                  1800      NaN       1800      NaN   \n",
       "30781          NaN                  1910      NaN          0  calibra   \n",
       "45157          NaN                  1910      NaN          0      NaN   \n",
       "\n",
       "       odometer_km  month_of_registration fuel_type       brand  \\\n",
       "49283       5000.0                      1       NaN     citroen   \n",
       "22316       5000.0                      1    benzin  volkswagen   \n",
       "28693       5000.0                      1    benzin     renault   \n",
       "22659     150000.0                      1       NaN        opel   \n",
       "24511       5000.0                      1       NaN     trabant   \n",
       "10556       5000.0                      2       NaN  mitsubishi   \n",
       "32585       5000.0                      2       NaN  mitsubishi   \n",
       "30781     100000.0                      1       NaN        opel   \n",
       "45157       5000.0                      1       NaN     trabant   \n",
       "\n",
       "      not_repaired_damage date_created   last_seen  age_of_vehicle_months  \n",
       "49283                 NaN   15-03-2016  06-04-2016                  12228  \n",
       "22316                 NaN   29-03-2016  31-03-2016                  12240  \n",
       "28693                 NaN   22-03-2016  06-04-2016                   1320  \n",
       "22659                 NaN   14-03-2016  03-04-2016                   1320  \n",
       "24511                 NaN   17-03-2016  07-04-2016                  10908  \n",
       "10556                nein   01-04-2016  01-04-2016                   2642  \n",
       "32585                nein   02-04-2016  04-04-2016                   2642  \n",
       "30781                 NaN   25-03-2016  26-03-2016                   1320  \n",
       "45157                 NaN   11-03-2016  25-03-2016                   1320  "
      ]
     },
     "execution_count": 93,
     "metadata": {},
     "output_type": "execute_result"
    }
   ],
   "source": [
    "autos[autos.age_of_vehicle_months/12>100]"
   ]
  },
  {
   "cell_type": "code",
   "execution_count": 94,
   "metadata": {},
   "outputs": [],
   "source": [
    "autos.drop(autos[autos.age_of_vehicle_months/12>100].age_of_vehicle_months.index,0,inplace=True)"
   ]
  },
  {
   "cell_type": "markdown",
   "metadata": {},
   "source": [
    "Binning the age of vehicles it suggest 60% of vehicles are of age 14 to 27 Years.35% of 1 to 14 years"
   ]
  },
  {
   "cell_type": "code",
   "execution_count": 95,
   "metadata": {},
   "outputs": [
    {
     "data": {
      "text/plain": [
       "(173.857, 331.714]    0.594523\n",
       "(14.895, 173.857]     0.354779\n",
       "(331.714, 489.571]    0.040570\n",
       "(489.571, 647.429]    0.007399\n",
       "(647.429, 805.286]    0.002315\n",
       "(963.143, 1121.0]     0.000227\n",
       "(805.286, 963.143]    0.000186\n",
       "Name: age_of_vehicle_months, dtype: float64"
      ]
     },
     "execution_count": 95,
     "metadata": {},
     "output_type": "execute_result"
    }
   ],
   "source": [
    "pd.cut(autos['age_of_vehicle_months'],bins=7).value_counts(normalize=True)"
   ]
  },
  {
   "cell_type": "markdown",
   "metadata": {},
   "source": [
    "Increasing the **bin size to 15** shows to 5 distribution of age of cars.\n",
    "   - 34% of age 13-19\n",
    "   - 27% of age 19-25,\n",
    "   - 21% of age 7 to 13\n",
    "   - 9% of age 1 to 7\n",
    "   - 5% of age 25-32\n",
    "\n",
    "To Summaries _97%_ of the cars are in age group <font color=blue>1-32</font>"
   ]
  },
  {
   "cell_type": "code",
   "execution_count": 96,
   "metadata": {},
   "outputs": [
    {
     "data": {
      "text/plain": [
       "(163.333, 237.0]       0.341366\n",
       "(237.0, 310.667]       0.274341\n",
       "(89.667, 163.333]      0.218539\n",
       "(14.895, 89.667]       0.093128\n",
       "(310.667, 384.333]     0.050036\n",
       "(384.333, 458.0]       0.009714\n",
       "(458.0, 531.667]       0.005043\n",
       "(531.667, 605.333]     0.003472\n",
       "(605.333, 679.0]       0.002604\n",
       "(679.0, 752.667]       0.001116\n",
       "(752.667, 826.333]     0.000248\n",
       "(973.667, 1047.333]    0.000165\n",
       "(826.333, 900.0]       0.000103\n",
       "(1047.333, 1121.0]     0.000062\n",
       "(900.0, 973.667]       0.000062\n",
       "Name: age_of_vehicle_months, dtype: float64"
      ]
     },
     "execution_count": 96,
     "metadata": {},
     "output_type": "execute_result"
    }
   ],
   "source": [
    "pd.cut(autos['age_of_vehicle_months'],bins=15).value_counts(normalize=True)"
   ]
  },
  {
   "cell_type": "markdown",
   "metadata": {},
   "source": [
    "##                                          --------------------Part 7--------------------\n",
    "Explore the unique values in the brand column, and decide on which brands you want to aggregate by.\n",
    "You might want to select the top 20, or you might want to select those that have over a certain percentage of the total values (e.g. > 5%).\n",
    "Remember that Series.value_counts() produces a series with index labels, so you can use Series.index attribute to access the labels, should you wish. \n",
    "Write a short paragraph describing the brand data, and explaining which brands you've chosen to aggregate on.\n",
    "Create an empty dictionary to hold your aggregate data.\n",
    "Loop over your selected brands, and assign the mean price to the dictionary, with the brand name as the key. \n",
    "Print your dictionary of aggregate data, and write a paragraph analyzing the results."
   ]
  },
  {
   "cell_type": "markdown",
   "metadata": {},
   "source": [
    "##                                          -------------Solution of Part 7----------------\n",
    "\n",
    "Unique values in brand"
   ]
  },
  {
   "cell_type": "code",
   "execution_count": 97,
   "metadata": {},
   "outputs": [
    {
     "data": {
      "text/plain": [
       "array(['porsche', 'sonstige_autos', 'bmw', 'mercedes_benz', 'audi',\n",
       "       'ford', 'land_rover', 'renault', 'volkswagen', 'jaguar',\n",
       "       'chevrolet', 'jeep', 'alfa_romeo', 'toyota', 'honda', 'opel',\n",
       "       'mazda', 'mitsubishi', 'nissan', 'mini', 'seat', 'citroen',\n",
       "       'skoda', 'subaru', 'hyundai', 'lancia', 'volvo', 'kia', 'peugeot',\n",
       "       'fiat', 'rover', 'suzuki', 'chrysler', 'saab', 'smart', 'dacia',\n",
       "       'daihatsu', 'lada', 'trabant', 'daewoo'], dtype=object)"
      ]
     },
     "execution_count": 97,
     "metadata": {},
     "output_type": "execute_result"
    }
   ],
   "source": [
    "pd.unique(autos.brand)"
   ]
  },
  {
   "cell_type": "code",
   "execution_count": 98,
   "metadata": {},
   "outputs": [
    {
     "data": {
      "text/plain": [
       "volkswagen        10303\n",
       "bmw                5253\n",
       "opel               5245\n",
       "mercedes_benz      4634\n",
       "audi               4155\n",
       "ford               3375\n",
       "renault            2316\n",
       "peugeot            1426\n",
       "fiat               1260\n",
       "seat                916\n",
       "skoda               778\n",
       "nissan              740\n",
       "mazda               739\n",
       "smart               694\n",
       "citroen             683\n",
       "toyota              611\n",
       "hyundai             482\n",
       "sonstige_autos      459\n",
       "volvo               437\n",
       "mini                418\n",
       "mitsubishi          394\n",
       "honda               387\n",
       "kia                 345\n",
       "alfa_romeo          320\n",
       "suzuki              285\n",
       "porsche             285\n",
       "chevrolet           274\n",
       "chrysler            169\n",
       "dacia               129\n",
       "daihatsu            122\n",
       "jeep                107\n",
       "subaru              101\n",
       "land_rover           99\n",
       "saab                 79\n",
       "daewoo               76\n",
       "jaguar               74\n",
       "trabant              66\n",
       "rover                65\n",
       "lancia               55\n",
       "lada                 29\n",
       "Name: brand, dtype: int64"
      ]
     },
     "execution_count": 98,
     "metadata": {},
     "output_type": "execute_result"
    }
   ],
   "source": [
    "autos.brand.value_counts()"
   ]
  },
  {
   "cell_type": "markdown",
   "metadata": {},
   "source": [
    "Taking percentage share of brands in the data"
   ]
  },
  {
   "cell_type": "code",
   "execution_count": 99,
   "metadata": {},
   "outputs": [
    {
     "data": {
      "text/plain": [
       "volkswagen        21.293789\n",
       "bmw               10.856670\n",
       "opel              10.840136\n",
       "mercedes_benz      9.577348\n",
       "audi               8.587372\n",
       "ford               6.975302\n",
       "renault            4.786607\n",
       "peugeot            2.947194\n",
       "fiat               2.604113\n",
       "seat               1.893149\n",
       "skoda              1.607936\n",
       "nissan             1.529400\n",
       "mazda              1.527333\n",
       "smart              1.434329\n",
       "citroen            1.411595\n",
       "toyota             1.262788\n",
       "hyundai            0.996177\n",
       "sonstige_autos     0.948641\n",
       "volvo              0.903172\n",
       "mini               0.863904\n",
       "mitsubishi         0.814302\n",
       "honda              0.799835\n",
       "kia                0.713031\n",
       "alfa_romeo         0.661362\n",
       "suzuki             0.589026\n",
       "porsche            0.589026\n",
       "chevrolet          0.566291\n",
       "chrysler           0.349282\n",
       "dacia              0.266612\n",
       "daihatsu           0.252144\n",
       "jeep               0.221143\n",
       "subaru             0.208742\n",
       "land_rover         0.204609\n",
       "saab               0.163274\n",
       "daewoo             0.157073\n",
       "jaguar             0.152940\n",
       "trabant            0.136406\n",
       "rover              0.134339\n",
       "lancia             0.113672\n",
       "lada               0.059936\n",
       "Name: brand, dtype: float64"
      ]
     },
     "execution_count": 99,
     "metadata": {},
     "output_type": "execute_result"
    }
   ],
   "source": [
    "autos.brand.value_counts(normalize=True)*100"
   ]
  },
  {
   "cell_type": "code",
   "execution_count": 100,
   "metadata": {},
   "outputs": [],
   "source": [
    "#creating Brand List for getting aggregate data\n",
    "brand_list=['volkswagen', 'bmw', 'opel', 'mercedes_benz', 'audi', 'ford', 'renault',\n",
    "       'peugeot', 'fiat', 'seat', 'skoda', 'nissan', 'mazda', 'smart',\n",
    "       'citroen']"
   ]
  },
  {
   "cell_type": "code",
   "execution_count": 101,
   "metadata": {},
   "outputs": [],
   "source": [
    "#Empty dictnory initialisation for storing mean price\n",
    "mean_price_per_brand={}"
   ]
  },
  {
   "cell_type": "code",
   "execution_count": 102,
   "metadata": {},
   "outputs": [],
   "source": [
    "for i in brand_list:\n",
    "    #price_mean=autos[autos[\"brand\"]==i].price.mean()\n",
    "    #temp={i:price_mean}\n",
    "    mean_price_per_brand.update({i:autos[autos[\"brand\"]==i].price.mean()})"
   ]
  },
  {
   "cell_type": "code",
   "execution_count": 103,
   "metadata": {},
   "outputs": [
    {
     "name": "stdout",
     "output_type": "stream",
     "text": [
      "::::::::Price of brands::::::::\n",
      " {'volkswagen': 5347.68727555081, 'bmw': 8294.405101846563, 'opel': 2957.623832221163, 'mercedes_benz': 8556.059991368149, 'audi': 9241.752587244284, 'ford': 3736.143111111111, 'renault': 2440.3812607944733, 'peugeot': 3074.2082748948105, 'fiat': 2798.3031746031747, 'seat': 4334.31441048035, 'skoda': 6369.875321336761, 'nissan': 4675.6945945945945, 'mazda': 4059.059539918809, 'smart': 3518.102305475504, 'citroen': 3767.0688140556367}\n"
     ]
    }
   ],
   "source": [
    "print(\"::::::::Price of brands::::::::\\n\",mean_price_per_brand)"
   ]
  },
  {
   "cell_type": "markdown",
   "metadata": {},
   "source": [
    "##                                          --------------------Part 8--------------------\n",
    "\n",
    "Use the loop method from the last screen to calculate the mean mileage and mean price for each of the top brands, storing the results in a dictionary.Convert both dictionaries to series objects, using the series constructor.Create a dataframe from the first series object using the dataframe constructor.Assign the other series as a new column in this dataframe.Pretty print the dataframe, and write a paragraph analyzing the aggregate data.\n",
    "\n",
    "##                                          -------------Solution of Part 8----------------"
   ]
  }
 ],
 "metadata": {
  "kernelspec": {
   "display_name": "Python 3",
   "language": "python",
   "name": "python3"
  },
  "language_info": {
   "codemirror_mode": {
    "name": "ipython",
    "version": 3
   },
   "file_extension": ".py",
   "mimetype": "text/x-python",
   "name": "python",
   "nbconvert_exporter": "python",
   "pygments_lexer": "ipython3",
   "version": "3.7.4"
  }
 },
 "nbformat": 4,
 "nbformat_minor": 2
}

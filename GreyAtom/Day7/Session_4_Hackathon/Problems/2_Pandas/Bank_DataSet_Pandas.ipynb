{
 "cells": [
  {
   "cell_type": "markdown",
   "metadata": {
    "colab_type": "text",
    "id": "OKu5TvzLTWHx"
   },
   "source": [
    "# Sales report using Pandas\n",
    "***\n",
    "## Problem Statement\n",
    "\n",
    "Hello budding Data Scientists. We have with us a bank data set which gives information about the revenue of various customers spread across different regions in USA.\n",
    "\n",
    "Using the knowledge of Pandas and Matplotlib, we will try to answer certain questions from the bank dataset  \n",
    "\n",
    "We will also then scrape certain additional data from Wikipedia, clean it and combine it with our bank data for better understandability of the data.      \n",
    "\n",
    "\n",
    "## About the Dataset\n",
    "\n",
    "\n",
    "The dataset has details of 15 customers with following 9 features.\n",
    "\n",
    "|Feature|Description|\n",
    "|-----|-----|\n",
    "|account|account Id|\n",
    "|name|name of the person|\n",
    "|street|Name of the street|\n",
    "|city|Name of the city|\n",
    "|state|Name of the state|\n",
    "|postal-code|numerical value|\n",
    "|Jan|Amount in doller|\n",
    "|Feb|Amount in doller|\n",
    "|Mar|Amount in doller|\n",
    "\n",
    "\n",
    "\n",
    "\n",
    "## Why solve this project\n",
    "\n",
    "Doing this project will enable you to integrate Multiple data sources to answer basic questions. You will also learn to perform common excel tasks with pandas\n",
    "\n",
    "What will you learn in the session ?\n",
    "Python Basics\n",
    "Pandas\n",
    "Web Scrapping\n",
    "Functions\n",
    "Plotting\n",
    "Pre-requisites\n",
    "Working knowledge of Pandas, Numpy, Matplotlib\n",
    "Data indexing and slicing"
   ]
  },
  {
   "cell_type": "markdown",
   "metadata": {
    "colab_type": "text",
    "id": "R2Fl2vXfTWH0"
   },
   "source": [
    "# Load Data and Compute total\n",
    "The first step - you know the drill by now - load the dataset and see how it looks like. Additionally, calculate the total amount in the first quarter of the financial year. Calculate the total amount of all the users for the month of jan, feb and Mar and also grand total. \n",
    "  \n",
    "\n",
    "## Instructions\n",
    "\n",
    "- Load dataset using pandas read_csv api in variable `df` and give file path as `path`.\n",
    "- The names of the states `state` column are changed to lower case and store it in `df['state']`\n",
    "- Create a new column named `total` which computes the total amount in the first quarter\n",
    "  of the financial year i.e. for the months of Jan, Feb and Mar and store it in `df['total']`\n",
    "- Calculate the sum of amount of all users in the Month of Jan, Feb, March and store it in variable `sum_row` \n",
    " (Here the sum implies the sum of all the entries in the `Jan Column`, sum of entries in `Feb` Column and Grand total stands for the sum of entries in the column `total`)\n",
    "- Append this computed sum to the DataFrame `df_final` \n",
    "\n",
    "## Hints:\n",
    "\n",
    "- To convert state into lower case use `df['state'] = df['state'].apply(lambda x: x.lower())`\n",
    "\n",
    "\n",
    "\n",
    "## TestCase:\n",
    "\n",
    "- variable check df\n",
    "- df type == pandas.core.frame.DataFrame\n",
    "- df.shape == (15,10)\n",
    "- variable check `sum_row`\n",
    "- variable check `df_sum`\n",
    "- df_sum type == pandas.core.frame.DataFrame\n",
    "- variable check `df_final`\n",
    "- df_final type == pandas.core.frame.DataFrame\n",
    "- df_final.shape == (16 ,10)\n",
    "\n",
    "\n",
    "\n"
   ]
  },
  {
   "cell_type": "code",
   "execution_count": null,
   "metadata": {
    "colab": {},
    "colab_type": "code",
    "id": "yQ3pk1qSTWH3"
   },
   "outputs": [],
   "source": [
    "import pandas as pd\n",
    "path='C:/Users/mrityunjay1.pandey/GreyAtom/Day7/Session_4_Hackathon/Problems/2_Pandas/excel-comp-data.csv'\n",
    "df=pd.read_csv(path)"
   ]
  },
  {
   "cell_type": "code",
   "execution_count": null,
   "metadata": {},
   "outputs": [],
   "source": [
    "#Converting states to lower case\n",
    "df.state=df.state.str.lower()"
   ]
  },
  {
   "cell_type": "code",
   "execution_count": null,
   "metadata": {},
   "outputs": [],
   "source": [
    "#Adding quarter values in total column\n",
    "df['total']=df.iloc[:,-3:].sum(axis=1)"
   ]
  },
  {
   "cell_type": "code",
   "execution_count": null,
   "metadata": {},
   "outputs": [],
   "source": [
    "#Adding Months sum in new row\n",
    "sumtot=df.iloc[:,-4:].sum(axis=0)\n",
    "df_final=df.append([{'Jan':sumtot[0],'Feb':sumtot[1],'Mar':sumtot[2],'total':sumtot[3]}],ignore_index=True)"
   ]
  },
  {
   "cell_type": "code",
   "execution_count": null,
   "metadata": {},
   "outputs": [],
   "source": [
    "df_final"
   ]
  },
  {
   "cell_type": "markdown",
   "metadata": {
    "colab_type": "text",
    "id": "vNgECyRwTWH_"
   },
   "source": [
    "## Success Message:\n",
    "\n",
    "Congrats!\n",
    "You have successfully calculated the total for the first quarter.\n"
   ]
  },
  {
   "cell_type": "markdown",
   "metadata": {
    "colab_type": "text",
    "id": "eBopA2i-TWIA"
   },
   "source": [
    "# Scrape Data From the web \n",
    "\n",
    "Here, you will be scraping data from the web and cleaning it. \n",
    " \n",
    "  \n",
    "## Instructions:\n",
    "\n",
    "- Scrapes the url `https://en.wikipedia.org/wiki/List_of_U.S._state_abbreviations` and store it in variable `url`\n",
    "- Use module `requests` to `get` the url and store it in variable called `response`\n",
    "- load the html file in dataframe `df1`. `Note`:use `pd.read_html(response.content)[0]`.   \n",
    "- First few rows consists of unclean data. You need to select rows from index 11 till end. Make the values at index 11 as column headers and store it in dataframe `df1`.\n",
    "- Remove space from the column named 'United States of America' and store the result in dataframe called `df1['United States of America']`\n",
    "\n",
    "## Hints:\n",
    "\n",
    "- Remove the space from column use `df1['United States of America'].apply(lambda x: x.replace(\" \", \"\")).astype(object)`\n",
    "\n",
    "\n",
    "## Testcase:\n",
    "\n",
    "- variable check `url`\n",
    "- variable check df1\n",
    "- df1.shape == (85,15)\n"
   ]
  },
  {
   "cell_type": "code",
   "execution_count": null,
   "metadata": {
    "colab": {},
    "colab_type": "code",
    "id": "D88MyDcDTWIB"
   },
   "outputs": [],
   "source": [
    "url='https://en.wikipedia.org/wiki/List_of_U.S._state_abbreviations'\n",
    "import requests as req\n",
    "response=req.get(url)"
   ]
  },
  {
   "cell_type": "code",
   "execution_count": null,
   "metadata": {},
   "outputs": [],
   "source": [
    "df1=pd.read_html(response.content)[0]"
   ]
  },
  {
   "cell_type": "code",
   "execution_count": null,
   "metadata": {},
   "outputs": [],
   "source": [
    "df1.to_csv(\"scraped.csv\")"
   ]
  },
  {
   "cell_type": "code",
   "execution_count": null,
   "metadata": {},
   "outputs": [],
   "source": [
    "df1['United States of America']=df1['United States of America'].apply(lambda x: x.replace(\" \", \"\")).astype(object)"
   ]
  },
  {
   "cell_type": "code",
   "execution_count": null,
   "metadata": {},
   "outputs": [],
   "source": [
    "df1"
   ]
  },
  {
   "cell_type": "code",
   "execution_count": null,
   "metadata": {},
   "outputs": [],
   "source": [
    "path1='C:/Users/mrityunjay1.pandey/GreyAtom/Day7/Session_4_Hackathon/Problems/2_Pandas/scraped.csv'\n",
    "scraped=pd.read_csv(path1)"
   ]
  },
  {
   "cell_type": "code",
   "execution_count": null,
   "metadata": {},
   "outputs": [],
   "source": [
    "path1='C:/Users/mrityunjay1.pandey/GreyAtom/Day7/Session_4_Hackathon/Problems/2_Pandas/scraped.csv'\n",
    "scraped=pd.read_csv(path1)\n",
    "\n",
    "#Convert to Lower case\n",
    "scraped[\"United States of America\"]=scraped[\"United States of America\"].str.lower()\n",
    "#Mappng to final output\n",
    "pd.merge(df_final,scraped[[\"United States of America\",\"Abbrevation\"]],left_on = \"state\",right_on = \"United States of America\",how = \"left\")\n",
    "#Dropping columns which are not needed\n",
    "df_final.drop('abbr',axis=1,inplace=True)\n",
    "df_final.drop('United States of America',axis=1,inplace=True)\n",
    "#Renaimng colun to be in sync with team\n",
    "df_final.rename(columns={'Abbrevation':'Abbr'},inplace=True)\n"
   ]
  },
  {
   "cell_type": "code",
   "execution_count": null,
   "metadata": {},
   "outputs": [],
   "source": [
    "df_final=pd.merge(df_final,scraped[[\"United States of America\",\"Abbrevation\"]],left_on = \"state\",right_on = \"United States of America\",how = \"left\")"
   ]
  },
  {
   "cell_type": "code",
   "execution_count": null,
   "metadata": {},
   "outputs": [],
   "source": [
    "df_final.head(3)"
   ]
  },
  {
   "cell_type": "code",
   "execution_count": null,
   "metadata": {},
   "outputs": [],
   "source": [
    "df_final.drop('United States of America',axis=1,inplace=True)"
   ]
  },
  {
   "cell_type": "code",
   "execution_count": null,
   "metadata": {},
   "outputs": [],
   "source": [
    "scraped.iloc[:,3]"
   ]
  },
  {
   "cell_type": "code",
   "execution_count": null,
   "metadata": {},
   "outputs": [],
   "source": [
    "scraped.head()"
   ]
  },
  {
   "cell_type": "code",
   "execution_count": null,
   "metadata": {},
   "outputs": [],
   "source": []
  },
  {
   "cell_type": "code",
   "execution_count": null,
   "metadata": {},
   "outputs": [],
   "source": [
    "#Removing unwanted data\n",
    "df1=df1.iloc[10:]\n",
    "#Column name changed\n",
    "df1  = pd.DataFrame(df1.values[1:], columns=df1.iloc[0])\n",
    "#Ranming 3 column name to 'Abbrevation'\n",
    "df1.rename(columns={df1.columns[2]:'Abbrevation'},inplace=True)\n",
    "#Removing space from first column\n",
    "df1['United States of America']=df1['United States of America'].apply(lambda x: x.replace(\" \", \"\")).astype(object)\n",
    "#Writing to CSV\n",
    "df1.to_csv(\"scraped.csv\")\n",
    "#Reading from CSV\n",
    "\n",
    "#Creating dictonary of mappng and Abberavtion\n",
    "df1.set_index('United States of America')['Abbrevation'].to_dict()"
   ]
  },
  {
   "cell_type": "code",
   "execution_count": null,
   "metadata": {},
   "outputs": [],
   "source": [
    "df_final=pd.merge(df_final,scraped[[\"United States of America\",\"Abbrevation\"]],left_on = \"state\",right_on = \"United States of America\",how = \"left\")"
   ]
  },
  {
   "cell_type": "code",
   "execution_count": null,
   "metadata": {},
   "outputs": [],
   "source": [
    "df_final.drop('abbr',axis=1,inplace=True)"
   ]
  },
  {
   "cell_type": "code",
   "execution_count": null,
   "metadata": {},
   "outputs": [],
   "source": [
    "df_final.drop('United States of America',axis=1,inplace=True)"
   ]
  },
  {
   "cell_type": "code",
   "execution_count": 42,
   "metadata": {},
   "outputs": [],
   "source": [
    "df_final.rename(columns={'Abbrevation':'Abbr'},inplace=True)"
   ]
  },
  {
   "cell_type": "markdown",
   "metadata": {
    "colab_type": "text",
    "id": "brIvYDkvTWIF"
   },
   "source": [
    "## Success Message:\n",
    "Congrats!\n",
    "You have successfully scrapped the data."
   ]
  },
  {
   "cell_type": "markdown",
   "metadata": {
    "colab_type": "text",
    "id": "T227vN_TTWIG"
   },
   "source": [
    "# Mapping Countries to their abbreviations\n",
    "\n",
    "Using the data scraped from the previous task, map abbriviation to the name of states.\n",
    " \n",
    "  \n",
    "\n",
    "## Instructions:\n",
    "\n",
    "- Load scraped dataset using pandas read_csv api in variable `scraped` and give file path as `path1` \n",
    "- Using the scraped data create a variable called `mapping` which has the Country\n",
    " as key and Abbreviation as value\n",
    "- Create a new column called `abbr` as the 7th column (index = 6) of the DataFrame `df_final`\n",
    "- map the `df_final['state']` on variable `mapping` and store it in `df_final['abbr']` \n",
    "\n",
    "## Hints:\n",
    "\n",
    "- for the mapping use `df1.set_index('United States of America')['US'].to_dict()`\n",
    "\n",
    "## Testcase :\n",
    "\n",
    "- variable check scraped\n",
    "- scrapped.type == pandas.core.frame.DataFrame\n",
    "- variable check df_final \n",
    "- df_final.type == pandas.core.frame.DataFrame\n",
    "- df_final.shape == (16,11)\n"
   ]
  },
  {
   "cell_type": "code",
   "execution_count": null,
   "metadata": {
    "colab": {},
    "colab_type": "code",
    "id": "yLye_fGeTWIH"
   },
   "outputs": [],
   "source": [
    "import numpy as np\n",
    "df_final.insert(6,'abbr',np.nan)"
   ]
  },
  {
   "cell_type": "markdown",
   "metadata": {
    "colab_type": "text",
    "id": "23CDt9BvTWIV"
   },
   "source": [
    "## Success Message:\n",
    "Congrats!\n",
    "You have successfully added the `abbr` column."
   ]
  },
  {
   "cell_type": "markdown",
   "metadata": {
    "colab_type": "text",
    "id": "eQTN-WqaTWIW"
   },
   "source": [
    "# Filling in the Missing Values\n",
    "\n",
    "What you will notice in the previous task is that for two states Mississippi and Tennessee will have NaN values in column `abbr`. In this task you will be filling those missing values manually. \n",
    " \n",
    "  \n",
    "\n",
    "## Intructions :\n",
    "-   \n",
    "- Locate the NaN in the abbr and replace `mississipi` with `MS` and store it in `df_mississipi`\n",
    "- Locate the NaN in the abbr and replace `tenessee` with `TN` and store it in `df_tenessee`\n",
    "- update the df_final\n",
    "\n",
    "\n",
    "## Hints:\n",
    "- To fill the nan values use `df_final[df_final['state'] == 'mississipi'].replace(np.nan, 'MS')`\n",
    "\n",
    "## Testcase:\n",
    "\n",
    "- variable check `df_mississipi`\n",
    "- variable check `df_tenessee`\n"
   ]
  },
  {
   "cell_type": "code",
   "execution_count": 43,
   "metadata": {
    "colab": {},
    "colab_type": "code",
    "id": "LUvnEdqkTWIY"
   },
   "outputs": [
    {
     "data": {
      "text/html": [
       "<div>\n",
       "<style scoped>\n",
       "    .dataframe tbody tr th:only-of-type {\n",
       "        vertical-align: middle;\n",
       "    }\n",
       "\n",
       "    .dataframe tbody tr th {\n",
       "        vertical-align: top;\n",
       "    }\n",
       "\n",
       "    .dataframe thead th {\n",
       "        text-align: right;\n",
       "    }\n",
       "</style>\n",
       "<table border=\"1\" class=\"dataframe\">\n",
       "  <thead>\n",
       "    <tr style=\"text-align: right;\">\n",
       "      <th></th>\n",
       "      <th>Abbr</th>\n",
       "      <th>state</th>\n",
       "    </tr>\n",
       "  </thead>\n",
       "  <tbody>\n",
       "    <tr>\n",
       "      <td>0</td>\n",
       "      <td>TX</td>\n",
       "      <td>texas</td>\n",
       "    </tr>\n",
       "    <tr>\n",
       "      <td>1</td>\n",
       "      <td>NC</td>\n",
       "      <td>northcarolina</td>\n",
       "    </tr>\n",
       "    <tr>\n",
       "      <td>2</td>\n",
       "      <td>IA</td>\n",
       "      <td>iowa</td>\n",
       "    </tr>\n",
       "    <tr>\n",
       "      <td>3</td>\n",
       "      <td>ME</td>\n",
       "      <td>maine</td>\n",
       "    </tr>\n",
       "    <tr>\n",
       "      <td>4</td>\n",
       "      <td>CA</td>\n",
       "      <td>california</td>\n",
       "    </tr>\n",
       "    <tr>\n",
       "      <td>5</td>\n",
       "      <td>AR</td>\n",
       "      <td>arkansas</td>\n",
       "    </tr>\n",
       "    <tr>\n",
       "      <td>6</td>\n",
       "      <td>NaN</td>\n",
       "      <td>mississipi</td>\n",
       "    </tr>\n",
       "    <tr>\n",
       "      <td>7</td>\n",
       "      <td>RI</td>\n",
       "      <td>rhodeisland</td>\n",
       "    </tr>\n",
       "    <tr>\n",
       "      <td>8</td>\n",
       "      <td>PA</td>\n",
       "      <td>pennsylvania</td>\n",
       "    </tr>\n",
       "    <tr>\n",
       "      <td>9</td>\n",
       "      <td>ID</td>\n",
       "      <td>idaho</td>\n",
       "    </tr>\n",
       "    <tr>\n",
       "      <td>10</td>\n",
       "      <td>NaN</td>\n",
       "      <td>tenessee</td>\n",
       "    </tr>\n",
       "    <tr>\n",
       "      <td>11</td>\n",
       "      <td>ND</td>\n",
       "      <td>northdakota</td>\n",
       "    </tr>\n",
       "    <tr>\n",
       "      <td>12</td>\n",
       "      <td>IA</td>\n",
       "      <td>iowa</td>\n",
       "    </tr>\n",
       "    <tr>\n",
       "      <td>13</td>\n",
       "      <td>RI</td>\n",
       "      <td>rhodeisland</td>\n",
       "    </tr>\n",
       "    <tr>\n",
       "      <td>14</td>\n",
       "      <td>DE</td>\n",
       "      <td>delaware</td>\n",
       "    </tr>\n",
       "    <tr>\n",
       "      <td>15</td>\n",
       "      <td>NaN</td>\n",
       "      <td>NaN</td>\n",
       "    </tr>\n",
       "  </tbody>\n",
       "</table>\n",
       "</div>"
      ],
      "text/plain": [
       "   Abbr          state\n",
       "0    TX          texas\n",
       "1    NC  northcarolina\n",
       "2    IA           iowa\n",
       "3    ME          maine\n",
       "4    CA     california\n",
       "5    AR       arkansas\n",
       "6   NaN     mississipi\n",
       "7    RI    rhodeisland\n",
       "8    PA   pennsylvania\n",
       "9    ID          idaho\n",
       "10  NaN       tenessee\n",
       "11   ND    northdakota\n",
       "12   IA           iowa\n",
       "13   RI    rhodeisland\n",
       "14   DE       delaware\n",
       "15  NaN            NaN"
      ]
     },
     "execution_count": 43,
     "metadata": {},
     "output_type": "execute_result"
    }
   ],
   "source": [
    "df_final[['Abbr','state']]"
   ]
  },
  {
   "cell_type": "code",
   "execution_count": null,
   "metadata": {},
   "outputs": [],
   "source": [
    "df_final_new=df_final.copy(deep=True)\n",
    "df_final_new.loc[df_final_new.loc[['state'] == 'mississipi','Abbr']]='MS'"
   ]
  },
  {
   "cell_type": "code",
   "execution_count": 58,
   "metadata": {},
   "outputs": [],
   "source": [
    "df_final.loc[df_final['state']=='mississipi','Abbr']='MS'\n",
    "df_final.loc[df_final['state']=='tenessee','Abbr']='TN'"
   ]
  },
  {
   "cell_type": "code",
   "execution_count": 61,
   "metadata": {},
   "outputs": [],
   "source": [
    "df_test=df_final.head(5)"
   ]
  },
  {
   "cell_type": "code",
   "execution_count": 83,
   "metadata": {},
   "outputs": [],
   "source": [
    "df_test.loc[df_test['state'].isin(['mississipi','tenessee']),'Abbr']=['MS','TN','MS','TN','TN']"
   ]
  },
  {
   "cell_type": "code",
   "execution_count": 84,
   "metadata": {},
   "outputs": [
    {
     "data": {
      "text/html": [
       "<div>\n",
       "<style scoped>\n",
       "    .dataframe tbody tr th:only-of-type {\n",
       "        vertical-align: middle;\n",
       "    }\n",
       "\n",
       "    .dataframe tbody tr th {\n",
       "        vertical-align: top;\n",
       "    }\n",
       "\n",
       "    .dataframe thead th {\n",
       "        text-align: right;\n",
       "    }\n",
       "</style>\n",
       "<table border=\"1\" class=\"dataframe\">\n",
       "  <thead>\n",
       "    <tr style=\"text-align: right;\">\n",
       "      <th></th>\n",
       "      <th>account</th>\n",
       "      <th>name</th>\n",
       "      <th>street</th>\n",
       "      <th>city</th>\n",
       "      <th>state</th>\n",
       "      <th>postal-code</th>\n",
       "      <th>Jan</th>\n",
       "      <th>Feb</th>\n",
       "      <th>Mar</th>\n",
       "      <th>total</th>\n",
       "      <th>Abbr</th>\n",
       "    </tr>\n",
       "  </thead>\n",
       "  <tbody>\n",
       "    <tr>\n",
       "      <td>0</td>\n",
       "      <td>211829.0</td>\n",
       "      <td>Kerluke, Koepp and Hilpert</td>\n",
       "      <td>34456 Sean Highway</td>\n",
       "      <td>New Jaycob</td>\n",
       "      <td>mississipi</td>\n",
       "      <td>28752.0</td>\n",
       "      <td>10000</td>\n",
       "      <td>62000</td>\n",
       "      <td>35000</td>\n",
       "      <td>107000</td>\n",
       "      <td>MS</td>\n",
       "    </tr>\n",
       "    <tr>\n",
       "      <td>1</td>\n",
       "      <td>320563.0</td>\n",
       "      <td>Walter-Trantow</td>\n",
       "      <td>1311 Alvis Tunnel</td>\n",
       "      <td>Port Khadijah</td>\n",
       "      <td>mississipi</td>\n",
       "      <td>38365.0</td>\n",
       "      <td>95000</td>\n",
       "      <td>45000</td>\n",
       "      <td>35000</td>\n",
       "      <td>175000</td>\n",
       "      <td>TN</td>\n",
       "    </tr>\n",
       "    <tr>\n",
       "      <td>2</td>\n",
       "      <td>648336.0</td>\n",
       "      <td>Bashirian, Kunde and Price</td>\n",
       "      <td>62184 Schamberger Underpass Apt. 231</td>\n",
       "      <td>New Lilianland</td>\n",
       "      <td>mississipi</td>\n",
       "      <td>76517.0</td>\n",
       "      <td>91000</td>\n",
       "      <td>120000</td>\n",
       "      <td>35000</td>\n",
       "      <td>246000</td>\n",
       "      <td>MS</td>\n",
       "    </tr>\n",
       "    <tr>\n",
       "      <td>3</td>\n",
       "      <td>109996.0</td>\n",
       "      <td>D'Amore, Gleichner and Bode</td>\n",
       "      <td>155 Fadel Crescent Apt. 144</td>\n",
       "      <td>Hyattburgh</td>\n",
       "      <td>tenessee</td>\n",
       "      <td>46021.0</td>\n",
       "      <td>45000</td>\n",
       "      <td>120000</td>\n",
       "      <td>10000</td>\n",
       "      <td>175000</td>\n",
       "      <td>TN</td>\n",
       "    </tr>\n",
       "    <tr>\n",
       "      <td>4</td>\n",
       "      <td>121213.0</td>\n",
       "      <td>Bauch-Goldner</td>\n",
       "      <td>7274 Marissa Common</td>\n",
       "      <td>Shanahanchester</td>\n",
       "      <td>tenessee</td>\n",
       "      <td>49681.0</td>\n",
       "      <td>162000</td>\n",
       "      <td>120000</td>\n",
       "      <td>35000</td>\n",
       "      <td>317000</td>\n",
       "      <td>TN</td>\n",
       "    </tr>\n",
       "  </tbody>\n",
       "</table>\n",
       "</div>"
      ],
      "text/plain": [
       "    account                         name  \\\n",
       "0  211829.0   Kerluke, Koepp and Hilpert   \n",
       "1  320563.0               Walter-Trantow   \n",
       "2  648336.0   Bashirian, Kunde and Price   \n",
       "3  109996.0  D'Amore, Gleichner and Bode   \n",
       "4  121213.0                Bauch-Goldner   \n",
       "\n",
       "                                 street             city       state  \\\n",
       "0                    34456 Sean Highway       New Jaycob  mississipi   \n",
       "1                     1311 Alvis Tunnel    Port Khadijah  mississipi   \n",
       "2  62184 Schamberger Underpass Apt. 231   New Lilianland  mississipi   \n",
       "3           155 Fadel Crescent Apt. 144       Hyattburgh    tenessee   \n",
       "4                   7274 Marissa Common  Shanahanchester    tenessee   \n",
       "\n",
       "   postal-code     Jan     Feb    Mar   total Abbr  \n",
       "0      28752.0   10000   62000  35000  107000   MS  \n",
       "1      38365.0   95000   45000  35000  175000   TN  \n",
       "2      76517.0   91000  120000  35000  246000   MS  \n",
       "3      46021.0   45000  120000  10000  175000   TN  \n",
       "4      49681.0  162000  120000  35000  317000   TN  "
      ]
     },
     "execution_count": 84,
     "metadata": {},
     "output_type": "execute_result"
    }
   ],
   "source": [
    "df_test"
   ]
  },
  {
   "cell_type": "markdown",
   "metadata": {
    "colab_type": "text",
    "id": "hfIxBUmCTWId"
   },
   "source": [
    "## Success Message:\n",
    "\n",
    "Congrats!\n",
    "You have successfully filled the missing values."
   ]
  },
  {
   "cell_type": "markdown",
   "metadata": {
    "colab_type": "text",
    "id": "-zUQPNa7TWIg"
   },
   "source": [
    "## Total amount bank hold  \n",
    "\n",
    "\n",
    "Here, use the newly created abbr column to understand the total amount that the bank holds in each state. Let us make this data frame more readable by introducing units in this case `$` sign representing the unit of mone\n",
    " \n",
    "  \n",
    "\n",
    "## Instructions :\n",
    "  \n",
    "- Groups by `abbr` and finds the sum of aabr,jan,feb ,mar and total store the result in `df_sub`\n",
    "- Write a `lambda function` to introduce `$` sign infromt of all the numbers using `applymap` and store the result in `formatted_df`\n",
    "\n",
    "\n",
    "## Hints:\n",
    "\n",
    "- To introduce `$` use `df_sub.applymap(lambda x: \"${:,.0f}\".format(x))`.\n",
    "\n",
    "## Test case:\n",
    "\n",
    "- variable check `df_sub`\n",
    "- df_sub.shape == (13,4)\n",
    "- variable check `formatted_df`\n",
    "- formatted_df.shape == (13 ,4)\n"
   ]
  },
  {
   "cell_type": "code",
   "execution_count": 86,
   "metadata": {
    "colab": {},
    "colab_type": "code",
    "id": "kWjAgqIFTWIh"
   },
   "outputs": [
    {
     "data": {
      "text/html": [
       "<div>\n",
       "<style scoped>\n",
       "    .dataframe tbody tr th:only-of-type {\n",
       "        vertical-align: middle;\n",
       "    }\n",
       "\n",
       "    .dataframe tbody tr th {\n",
       "        vertical-align: top;\n",
       "    }\n",
       "\n",
       "    .dataframe thead th {\n",
       "        text-align: right;\n",
       "    }\n",
       "</style>\n",
       "<table border=\"1\" class=\"dataframe\">\n",
       "  <thead>\n",
       "    <tr style=\"text-align: right;\">\n",
       "      <th></th>\n",
       "      <th>account</th>\n",
       "      <th>postal-code</th>\n",
       "      <th>Jan</th>\n",
       "      <th>Feb</th>\n",
       "      <th>Mar</th>\n",
       "      <th>total</th>\n",
       "    </tr>\n",
       "    <tr>\n",
       "      <th>Abbr</th>\n",
       "      <th></th>\n",
       "      <th></th>\n",
       "      <th></th>\n",
       "      <th></th>\n",
       "      <th></th>\n",
       "      <th></th>\n",
       "    </tr>\n",
       "  </thead>\n",
       "  <tbody>\n",
       "    <tr>\n",
       "      <td>AR</td>\n",
       "      <td>132971.0</td>\n",
       "      <td>62785.0</td>\n",
       "      <td>150000</td>\n",
       "      <td>120000</td>\n",
       "      <td>35000</td>\n",
       "      <td>305000</td>\n",
       "    </tr>\n",
       "    <tr>\n",
       "      <td>DE</td>\n",
       "      <td>273274.0</td>\n",
       "      <td>27933.0</td>\n",
       "      <td>150000</td>\n",
       "      <td>120000</td>\n",
       "      <td>70000</td>\n",
       "      <td>340000</td>\n",
       "    </tr>\n",
       "    <tr>\n",
       "      <td>IA</td>\n",
       "      <td>242368.0</td>\n",
       "      <td>72686.0</td>\n",
       "      <td>162000</td>\n",
       "      <td>120000</td>\n",
       "      <td>35000</td>\n",
       "      <td>317000</td>\n",
       "    </tr>\n",
       "    <tr>\n",
       "      <td>ID</td>\n",
       "      <td>212303.0</td>\n",
       "      <td>46308.0</td>\n",
       "      <td>70000</td>\n",
       "      <td>120000</td>\n",
       "      <td>35000</td>\n",
       "      <td>225000</td>\n",
       "    </tr>\n",
       "    <tr>\n",
       "      <td>MS</td>\n",
       "      <td>1005233.0</td>\n",
       "      <td>123277.0</td>\n",
       "      <td>163000</td>\n",
       "      <td>302000</td>\n",
       "      <td>140000</td>\n",
       "      <td>605000</td>\n",
       "    </tr>\n",
       "    <tr>\n",
       "      <td>ND</td>\n",
       "      <td>231907.0</td>\n",
       "      <td>31415.0</td>\n",
       "      <td>150000</td>\n",
       "      <td>10000</td>\n",
       "      <td>162000</td>\n",
       "      <td>322000</td>\n",
       "    </tr>\n",
       "    <tr>\n",
       "      <td>PA</td>\n",
       "      <td>209744.0</td>\n",
       "      <td>64415.0</td>\n",
       "      <td>70000</td>\n",
       "      <td>95000</td>\n",
       "      <td>35000</td>\n",
       "      <td>200000</td>\n",
       "    </tr>\n",
       "    <tr>\n",
       "      <td>RI</td>\n",
       "      <td>473972.0</td>\n",
       "      <td>85380.0</td>\n",
       "      <td>200000</td>\n",
       "      <td>215000</td>\n",
       "      <td>70000</td>\n",
       "      <td>485000</td>\n",
       "    </tr>\n",
       "    <tr>\n",
       "      <td>TN</td>\n",
       "      <td>765870.0</td>\n",
       "      <td>181810.0</td>\n",
       "      <td>347000</td>\n",
       "      <td>405000</td>\n",
       "      <td>135000</td>\n",
       "      <td>887000</td>\n",
       "    </tr>\n",
       "  </tbody>\n",
       "</table>\n",
       "</div>"
      ],
      "text/plain": [
       "        account  postal-code     Jan     Feb     Mar   total\n",
       "Abbr                                                        \n",
       "AR     132971.0      62785.0  150000  120000   35000  305000\n",
       "DE     273274.0      27933.0  150000  120000   70000  340000\n",
       "IA     242368.0      72686.0  162000  120000   35000  317000\n",
       "ID     212303.0      46308.0   70000  120000   35000  225000\n",
       "MS    1005233.0     123277.0  163000  302000  140000  605000\n",
       "ND     231907.0      31415.0  150000   10000  162000  322000\n",
       "PA     209744.0      64415.0   70000   95000   35000  200000\n",
       "RI     473972.0      85380.0  200000  215000   70000  485000\n",
       "TN     765870.0     181810.0  347000  405000  135000  887000"
      ]
     },
     "execution_count": 86,
     "metadata": {},
     "output_type": "execute_result"
    }
   ],
   "source": [
    "df_final[].groupby(by='Abbr').sum()"
   ]
  },
  {
   "cell_type": "code",
   "execution_count": 107,
   "metadata": {},
   "outputs": [],
   "source": [
    "df_sub=df_final.iloc[:,-5:].groupby(by='Abbr').sum()"
   ]
  },
  {
   "cell_type": "code",
   "execution_count": 109,
   "metadata": {
    "colab": {},
    "colab_type": "code",
    "id": "UzNJE09qTWIk"
   },
   "outputs": [],
   "source": [
    "formatted_df=df_sub.applymap(lambda x: \"${:,.0f}\".format(x))"
   ]
  },
  {
   "cell_type": "markdown",
   "metadata": {
    "colab_type": "text",
    "id": "eSU99rQATWIo"
   },
   "source": [
    "## Success Message :\n",
    "\n",
    "Congrats!\n",
    "You have successfully calculated the total amount banks holds."
   ]
  },
  {
   "cell_type": "markdown",
   "metadata": {
    "colab_type": "text",
    "id": "FvybqakCTWIp"
   },
   "source": [
    "# Append a row to the DataFrame\n",
    "\n",
    "In this task, you will append a row to the data frame which will give us information about the total amount of the various regions in Jan, Feb and march and also the grand total\n",
    " \n",
    "## Instructions :\n",
    "\n",
    "- Computes the sum of amount of all users in the Month of Jan, Feb, March and the  total in variable called `sum_row` \n",
    " (Here the sum implies the sum of all the entries in the `Jan Column`, sum of entries in `Feb` Column and Grand total stands for the sum of entries in the column `total`)\n",
    "- Tranpose the dataframe `sum_row` and store it in new dataframe `df_sub_sum` \n",
    "- Make sure you append the `$` to all the digits and store it in dataframe `df_sub_sum` .\n",
    "- Append this computed sum to the DataFrame `final_table` \n",
    "- rename the index of `final_table` to  `{0: \"Total\"}` \n",
    "\n",
    "\n",
    "## Hints:\n",
    "\n",
    "- to transpose the dataframe use `pd.DataFrame(data=sum_row).T`\n",
    "\n",
    "## Test case :\n",
    "\n",
    "- variable check `sum_row`\n",
    "- variable check `df_sub_sum`\n",
    "- variable check `final_table`\n",
    "- final_table.shape == (14,4) "
   ]
  },
  {
   "cell_type": "code",
   "execution_count": 113,
   "metadata": {
    "colab": {},
    "colab_type": "code",
    "id": "fReeq8IvTWIq"
   },
   "outputs": [],
   "source": [
    "df_sub.loc['Total',:]=df_sub.sum(axis=0)\n",
    "\n",
    "formatted_df=df_sub.applymap(lambda x: \"${:,.0f}\".format(x))\n",
    "\n",
    "final_table=df_sub"
   ]
  },
  {
   "cell_type": "markdown",
   "metadata": {
    "colab_type": "text",
    "id": "arpoAI2oTWIx"
   },
   "source": [
    "## Success Message:\n",
    "\n",
    "Congrats!\n",
    "You have successfully appended the total."
   ]
  },
  {
   "cell_type": "markdown",
   "metadata": {
    "colab_type": "text",
    "id": "5DC0tutQTWIy"
   },
   "source": [
    "# Pie chart for total\n",
    "\n",
    "\n",
    "Having prepared all the data now its time to present the results visually\n",
    " \n",
    "## Instructions :\n",
    "- add the total of all the three months and store it in variable called `df_sub['total']`\n",
    "- plot the pie chart for the `df_sub['total']`\n",
    "\n",
    "\n",
    "## Hints:\n",
    "\n",
    "- To calculate total use `df_sub['Jan'] + df_sub['Feb'] + df_sub['Mar']`\n",
    "\n",
    "## Test case:\n",
    "\n",
    "- variable check df_sub['total']\n",
    "- df_sub['total']['AR'] == 305000\n"
   ]
  },
  {
   "cell_type": "code",
   "execution_count": 115,
   "metadata": {},
   "outputs": [
    {
     "data": {
      "text/plain": [
       "305000.0"
      ]
     },
     "execution_count": 115,
     "metadata": {},
     "output_type": "execute_result"
    }
   ],
   "source": [
    "df_sub['total']['AR']"
   ]
  },
  {
   "cell_type": "code",
   "execution_count": 116,
   "metadata": {
    "colab": {},
    "colab_type": "code",
    "id": "2U2ehzAsTWIz"
   },
   "outputs": [
    {
     "data": {
      "image/png": "[encoded data removed]",
      "text/plain": [
       "<Figure size 720x432 with 1 Axes>"
      ]
     },
     "metadata": {},
     "output_type": "display_data"
    }
   ],
   "source": [
    "import matplotlib.pyplot as plt\n",
    "#Plotting Pie Chart\n",
    "plt.figure(figsize=(10,6))\n",
    "plt.pie(df_sub['total'][:-1],labels=df_sub['total'][:-1].index,autopct=\"%1.1f%%\",shadow=True, startangle=90)\n",
    "plt.title(\"Pie Chart\")\n",
    "plt.show()"
   ]
  },
  {
   "cell_type": "code",
   "execution_count": null,
   "metadata": {
    "colab": {},
    "colab_type": "code",
    "id": "MF4PVS58TWI4"
   },
   "outputs": [],
   "source": []
  }
 ],
 "metadata": {
  "colab": {
   "name": "Bank_DataSet_Pandas.ipynb",
   "provenance": []
  },
  "kernelspec": {
   "display_name": "Python 3",
   "language": "python",
   "name": "python3"
  },
  "language_info": {
   "codemirror_mode": {
    "name": "ipython",
    "version": 3
   },
   "file_extension": ".py",
   "mimetype": "text/x-python",
   "name": "python",
   "nbconvert_exporter": "python",
   "pygments_lexer": "ipython3",
   "version": "3.7.4"
  }
 },
 "nbformat": 4,
 "nbformat_minor": 1
}
